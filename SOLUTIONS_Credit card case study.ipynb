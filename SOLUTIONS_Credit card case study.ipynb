{
 "cells": [
  {
   "cell_type": "code",
   "execution_count": 154,
   "id": "ba92a7de",
   "metadata": {},
   "outputs": [],
   "source": [
    "import numpy as np\n",
    "import pandas as pd\n",
    "import matplotlib.pyplot as plt\n",
    "import seaborn as sns\n",
    "%matplotlib inline"
   ]
  },
  {
   "cell_type": "code",
   "execution_count": 155,
   "id": "3ea4038f",
   "metadata": {},
   "outputs": [],
   "source": [
    "file_path= \"C:/Users/DELL/Desktop/Python case studies/Credit card/\""
   ]
  },
  {
   "cell_type": "code",
   "execution_count": 156,
   "id": "ea796539",
   "metadata": {},
   "outputs": [
    {
     "data": {
      "text/html": [
       "<div>\n",
       "<style scoped>\n",
       "    .dataframe tbody tr th:only-of-type {\n",
       "        vertical-align: middle;\n",
       "    }\n",
       "\n",
       "    .dataframe tbody tr th {\n",
       "        vertical-align: top;\n",
       "    }\n",
       "\n",
       "    .dataframe thead th {\n",
       "        text-align: right;\n",
       "    }\n",
       "</style>\n",
       "<table border=\"1\" class=\"dataframe\">\n",
       "  <thead>\n",
       "    <tr style=\"text-align: right;\">\n",
       "      <th></th>\n",
       "      <th>No</th>\n",
       "      <th>Customer</th>\n",
       "      <th>Age</th>\n",
       "      <th>City</th>\n",
       "      <th>Product</th>\n",
       "      <th>Limit</th>\n",
       "      <th>Company</th>\n",
       "      <th>Segment</th>\n",
       "    </tr>\n",
       "  </thead>\n",
       "  <tbody>\n",
       "    <tr>\n",
       "      <th>0</th>\n",
       "      <td>1</td>\n",
       "      <td>A1</td>\n",
       "      <td>76</td>\n",
       "      <td>BANGALORE</td>\n",
       "      <td>Gold</td>\n",
       "      <td>500000.0</td>\n",
       "      <td>C1</td>\n",
       "      <td>Self Employed</td>\n",
       "    </tr>\n",
       "    <tr>\n",
       "      <th>1</th>\n",
       "      <td>2</td>\n",
       "      <td>A2</td>\n",
       "      <td>71</td>\n",
       "      <td>CALCUTTA</td>\n",
       "      <td>Silver</td>\n",
       "      <td>100000.0</td>\n",
       "      <td>C2</td>\n",
       "      <td>Salaried_MNC</td>\n",
       "    </tr>\n",
       "    <tr>\n",
       "      <th>2</th>\n",
       "      <td>3</td>\n",
       "      <td>A3</td>\n",
       "      <td>34</td>\n",
       "      <td>COCHIN</td>\n",
       "      <td>Platimum</td>\n",
       "      <td>10000.0</td>\n",
       "      <td>C3</td>\n",
       "      <td>Salaried_Pvt</td>\n",
       "    </tr>\n",
       "    <tr>\n",
       "      <th>3</th>\n",
       "      <td>4</td>\n",
       "      <td>A4</td>\n",
       "      <td>47</td>\n",
       "      <td>BOMBAY</td>\n",
       "      <td>Platimum</td>\n",
       "      <td>10001.0</td>\n",
       "      <td>C4</td>\n",
       "      <td>Govt</td>\n",
       "    </tr>\n",
       "    <tr>\n",
       "      <th>4</th>\n",
       "      <td>5</td>\n",
       "      <td>A5</td>\n",
       "      <td>56</td>\n",
       "      <td>BANGALORE</td>\n",
       "      <td>Platimum</td>\n",
       "      <td>10002.0</td>\n",
       "      <td>C5</td>\n",
       "      <td>Normal Salary</td>\n",
       "    </tr>\n",
       "  </tbody>\n",
       "</table>\n",
       "</div>"
      ],
      "text/plain": [
       "   No Customer  Age       City   Product     Limit Company        Segment\n",
       "0   1       A1   76  BANGALORE      Gold  500000.0      C1  Self Employed\n",
       "1   2       A2   71   CALCUTTA    Silver  100000.0      C2   Salaried_MNC\n",
       "2   3       A3   34     COCHIN  Platimum   10000.0      C3   Salaried_Pvt\n",
       "3   4       A4   47     BOMBAY  Platimum   10001.0      C4           Govt\n",
       "4   5       A5   56  BANGALORE  Platimum   10002.0      C5  Normal Salary"
      ]
     },
     "execution_count": 156,
     "metadata": {},
     "output_type": "execute_result"
    }
   ],
   "source": [
    "customer_acqusition= pd.read_csv(file_path+\"Customer Acqusition.csv\")\n",
    "customer_acqusition.head()"
   ]
  },
  {
   "cell_type": "code",
   "execution_count": 157,
   "id": "23060289",
   "metadata": {},
   "outputs": [
    {
     "name": "stdout",
     "output_type": "stream",
     "text": [
      "<class 'pandas.core.frame.DataFrame'>\n",
      "RangeIndex: 100 entries, 0 to 99\n",
      "Data columns (total 8 columns):\n",
      " #   Column    Non-Null Count  Dtype  \n",
      "---  ------    --------------  -----  \n",
      " 0   No        100 non-null    int64  \n",
      " 1   Customer  100 non-null    object \n",
      " 2   Age       100 non-null    int64  \n",
      " 3   City      100 non-null    object \n",
      " 4   Product   100 non-null    object \n",
      " 5   Limit     100 non-null    float64\n",
      " 6   Company   100 non-null    object \n",
      " 7   Segment   100 non-null    object \n",
      "dtypes: float64(1), int64(2), object(5)\n",
      "memory usage: 6.4+ KB\n"
     ]
    }
   ],
   "source": [
    "customer_acqusition.info()"
   ]
  },
  {
   "cell_type": "code",
   "execution_count": 230,
   "id": "581e767b",
   "metadata": {},
   "outputs": [
    {
     "data": {
      "text/plain": [
       "0"
      ]
     },
     "execution_count": 230,
     "metadata": {},
     "output_type": "execute_result"
    }
   ],
   "source": [
    "#Checking for duplicate customers \n",
    "\n",
    "customer_acqusition['Customer'].duplicated().sum()"
   ]
  },
  {
   "cell_type": "code",
   "execution_count": 158,
   "id": "d0895b3b",
   "metadata": {},
   "outputs": [
    {
     "data": {
      "text/plain": [
       "0"
      ]
     },
     "execution_count": 158,
     "metadata": {},
     "output_type": "execute_result"
    }
   ],
   "source": [
    "#Checking for duplicates in the customers table.\n",
    "\n",
    "customer_acqusition.duplicated().sum()"
   ]
  },
  {
   "cell_type": "code",
   "execution_count": 159,
   "id": "ad6d6ef4",
   "metadata": {},
   "outputs": [
    {
     "data": {
      "text/html": [
       "<div>\n",
       "<style scoped>\n",
       "    .dataframe tbody tr th:only-of-type {\n",
       "        vertical-align: middle;\n",
       "    }\n",
       "\n",
       "    .dataframe tbody tr th {\n",
       "        vertical-align: top;\n",
       "    }\n",
       "\n",
       "    .dataframe thead th {\n",
       "        text-align: right;\n",
       "    }\n",
       "</style>\n",
       "<table border=\"1\" class=\"dataframe\">\n",
       "  <thead>\n",
       "    <tr style=\"text-align: right;\">\n",
       "      <th></th>\n",
       "      <th>Sl No:</th>\n",
       "      <th>Customer</th>\n",
       "      <th>Month</th>\n",
       "      <th>Type</th>\n",
       "      <th>Amount</th>\n",
       "    </tr>\n",
       "  </thead>\n",
       "  <tbody>\n",
       "    <tr>\n",
       "      <th>0</th>\n",
       "      <td>1</td>\n",
       "      <td>A1</td>\n",
       "      <td>12-Jan-04</td>\n",
       "      <td>JEWELLERY</td>\n",
       "      <td>485470.80</td>\n",
       "    </tr>\n",
       "    <tr>\n",
       "      <th>1</th>\n",
       "      <td>2</td>\n",
       "      <td>A1</td>\n",
       "      <td>3-Jan-04</td>\n",
       "      <td>PETRO</td>\n",
       "      <td>410556.13</td>\n",
       "    </tr>\n",
       "    <tr>\n",
       "      <th>2</th>\n",
       "      <td>3</td>\n",
       "      <td>A1</td>\n",
       "      <td>15-Jan-04</td>\n",
       "      <td>CLOTHES</td>\n",
       "      <td>23740.46</td>\n",
       "    </tr>\n",
       "    <tr>\n",
       "      <th>3</th>\n",
       "      <td>4</td>\n",
       "      <td>A1</td>\n",
       "      <td>25-Jan-04</td>\n",
       "      <td>FOOD</td>\n",
       "      <td>484342.47</td>\n",
       "    </tr>\n",
       "    <tr>\n",
       "      <th>4</th>\n",
       "      <td>5</td>\n",
       "      <td>A1</td>\n",
       "      <td>17-Jan-05</td>\n",
       "      <td>CAMERA</td>\n",
       "      <td>369694.07</td>\n",
       "    </tr>\n",
       "  </tbody>\n",
       "</table>\n",
       "</div>"
      ],
      "text/plain": [
       "   Sl No: Customer      Month       Type     Amount\n",
       "0       1       A1  12-Jan-04  JEWELLERY  485470.80\n",
       "1       2       A1   3-Jan-04      PETRO  410556.13\n",
       "2       3       A1  15-Jan-04    CLOTHES   23740.46\n",
       "3       4       A1  25-Jan-04       FOOD  484342.47\n",
       "4       5       A1  17-Jan-05     CAMERA  369694.07"
      ]
     },
     "execution_count": 159,
     "metadata": {},
     "output_type": "execute_result"
    }
   ],
   "source": [
    "spend= pd.read_csv(file_path+\"spend.csv\")\n",
    "spend.head()"
   ]
  },
  {
   "cell_type": "code",
   "execution_count": 160,
   "id": "679c6ff5",
   "metadata": {},
   "outputs": [
    {
     "name": "stdout",
     "output_type": "stream",
     "text": [
      "<class 'pandas.core.frame.DataFrame'>\n",
      "RangeIndex: 1500 entries, 0 to 1499\n",
      "Data columns (total 5 columns):\n",
      " #   Column    Non-Null Count  Dtype  \n",
      "---  ------    --------------  -----  \n",
      " 0   Sl No:    1500 non-null   int64  \n",
      " 1   Customer  1500 non-null   object \n",
      " 2   Month     1500 non-null   object \n",
      " 3   Type      1500 non-null   object \n",
      " 4   Amount    1500 non-null   float64\n",
      "dtypes: float64(1), int64(1), object(3)\n",
      "memory usage: 58.7+ KB\n"
     ]
    }
   ],
   "source": [
    "spend.info()"
   ]
  },
  {
   "cell_type": "code",
   "execution_count": 161,
   "id": "0e82b3bf",
   "metadata": {},
   "outputs": [],
   "source": [
    "# Converting the month column in dateset from object to datetime.\n",
    "spend['Month']= pd.to_datetime(spend.Month)"
   ]
  },
  {
   "cell_type": "code",
   "execution_count": 162,
   "id": "1c13f01b",
   "metadata": {},
   "outputs": [
    {
     "data": {
      "text/plain": [
       "0"
      ]
     },
     "execution_count": 162,
     "metadata": {},
     "output_type": "execute_result"
    }
   ],
   "source": [
    "#Checking for duplicates in the spend table.\n",
    "\n",
    "spend.duplicated().sum()"
   ]
  },
  {
   "cell_type": "code",
   "execution_count": 163,
   "id": "93c1ff87",
   "metadata": {},
   "outputs": [
    {
     "data": {
      "text/html": [
       "<div>\n",
       "<style scoped>\n",
       "    .dataframe tbody tr th:only-of-type {\n",
       "        vertical-align: middle;\n",
       "    }\n",
       "\n",
       "    .dataframe tbody tr th {\n",
       "        vertical-align: top;\n",
       "    }\n",
       "\n",
       "    .dataframe thead th {\n",
       "        text-align: right;\n",
       "    }\n",
       "</style>\n",
       "<table border=\"1\" class=\"dataframe\">\n",
       "  <thead>\n",
       "    <tr style=\"text-align: right;\">\n",
       "      <th></th>\n",
       "      <th>SL No:</th>\n",
       "      <th>Customer</th>\n",
       "      <th>Month</th>\n",
       "      <th>Amount</th>\n",
       "    </tr>\n",
       "  </thead>\n",
       "  <tbody>\n",
       "    <tr>\n",
       "      <th>0</th>\n",
       "      <td>1</td>\n",
       "      <td>A1</td>\n",
       "      <td>12-Jan-04</td>\n",
       "      <td>495414.75</td>\n",
       "    </tr>\n",
       "    <tr>\n",
       "      <th>1</th>\n",
       "      <td>2</td>\n",
       "      <td>A1</td>\n",
       "      <td>03-Jan-04</td>\n",
       "      <td>245899.02</td>\n",
       "    </tr>\n",
       "    <tr>\n",
       "      <th>2</th>\n",
       "      <td>3</td>\n",
       "      <td>A1</td>\n",
       "      <td>15-Jan-04</td>\n",
       "      <td>259490.06</td>\n",
       "    </tr>\n",
       "    <tr>\n",
       "      <th>3</th>\n",
       "      <td>4</td>\n",
       "      <td>A1</td>\n",
       "      <td>25-Jan-04</td>\n",
       "      <td>437555.12</td>\n",
       "    </tr>\n",
       "    <tr>\n",
       "      <th>4</th>\n",
       "      <td>5</td>\n",
       "      <td>A1</td>\n",
       "      <td>17-Jan-05</td>\n",
       "      <td>165972.88</td>\n",
       "    </tr>\n",
       "  </tbody>\n",
       "</table>\n",
       "</div>"
      ],
      "text/plain": [
       "   SL No: Customer      Month     Amount\n",
       "0       1       A1  12-Jan-04  495414.75\n",
       "1       2       A1  03-Jan-04  245899.02\n",
       "2       3       A1  15-Jan-04  259490.06\n",
       "3       4       A1  25-Jan-04  437555.12\n",
       "4       5       A1  17-Jan-05  165972.88"
      ]
     },
     "execution_count": 163,
     "metadata": {},
     "output_type": "execute_result"
    }
   ],
   "source": [
    "repayment= pd.read_csv(file_path+\"Repayment.csv\")\n",
    "repayment.head()"
   ]
  },
  {
   "cell_type": "code",
   "execution_count": 164,
   "id": "0f08177f",
   "metadata": {},
   "outputs": [
    {
     "name": "stdout",
     "output_type": "stream",
     "text": [
      "<class 'pandas.core.frame.DataFrame'>\n",
      "RangeIndex: 1500 entries, 0 to 1499\n",
      "Data columns (total 4 columns):\n",
      " #   Column    Non-Null Count  Dtype  \n",
      "---  ------    --------------  -----  \n",
      " 0   SL No:    1500 non-null   int64  \n",
      " 1   Customer  1500 non-null   object \n",
      " 2   Month     1500 non-null   object \n",
      " 3   Amount    1500 non-null   float64\n",
      "dtypes: float64(1), int64(1), object(2)\n",
      "memory usage: 47.0+ KB\n"
     ]
    }
   ],
   "source": [
    "repayment.info()"
   ]
  },
  {
   "cell_type": "code",
   "execution_count": 165,
   "id": "5ef2aaff",
   "metadata": {},
   "outputs": [],
   "source": [
    "# Converting the month column in dateset from object to datetime.\n",
    "spend['Month']= pd.to_datetime(spend.Month)"
   ]
  },
  {
   "cell_type": "code",
   "execution_count": 166,
   "id": "9bb83235",
   "metadata": {},
   "outputs": [],
   "source": [
    "# Converting the month column in repayment dateset from object to datetime.\n",
    "repayment['Month']= pd.to_datetime(repayment.Month)"
   ]
  },
  {
   "cell_type": "code",
   "execution_count": 167,
   "id": "7ede0f0c",
   "metadata": {},
   "outputs": [
    {
     "data": {
      "text/plain": [
       "0"
      ]
     },
     "execution_count": 167,
     "metadata": {},
     "output_type": "execute_result"
    }
   ],
   "source": [
    "#Checking for duplicates in the repayment table.\n",
    "\n",
    "\n",
    "repayment.duplicated().sum()"
   ]
  },
  {
   "cell_type": "markdown",
   "id": "f2a2de4b",
   "metadata": {},
   "source": [
    "### 1. In the above dataset,\n",
    "###  a. In case age is less than 18, replace it with mean of age values."
   ]
  },
  {
   "cell_type": "code",
   "execution_count": 168,
   "id": "50c7b5c6",
   "metadata": {},
   "outputs": [
    {
     "data": {
      "text/html": [
       "<div>\n",
       "<style scoped>\n",
       "    .dataframe tbody tr th:only-of-type {\n",
       "        vertical-align: middle;\n",
       "    }\n",
       "\n",
       "    .dataframe tbody tr th {\n",
       "        vertical-align: top;\n",
       "    }\n",
       "\n",
       "    .dataframe thead th {\n",
       "        text-align: right;\n",
       "    }\n",
       "</style>\n",
       "<table border=\"1\" class=\"dataframe\">\n",
       "  <thead>\n",
       "    <tr style=\"text-align: right;\">\n",
       "      <th></th>\n",
       "      <th>No</th>\n",
       "      <th>Customer</th>\n",
       "      <th>Age</th>\n",
       "      <th>City</th>\n",
       "      <th>Product</th>\n",
       "      <th>Limit</th>\n",
       "      <th>Company</th>\n",
       "      <th>Segment</th>\n",
       "    </tr>\n",
       "  </thead>\n",
       "  <tbody>\n",
       "    <tr>\n",
       "      <th>13</th>\n",
       "      <td>14</td>\n",
       "      <td>A14</td>\n",
       "      <td>16</td>\n",
       "      <td>BANGALORE</td>\n",
       "      <td>Gold</td>\n",
       "      <td>500000.0</td>\n",
       "      <td>C14</td>\n",
       "      <td>Salaried_Pvt</td>\n",
       "    </tr>\n",
       "    <tr>\n",
       "      <th>40</th>\n",
       "      <td>41</td>\n",
       "      <td>A41</td>\n",
       "      <td>13</td>\n",
       "      <td>COCHIN</td>\n",
       "      <td>Platimum</td>\n",
       "      <td>500000.0</td>\n",
       "      <td>C23</td>\n",
       "      <td>Govt</td>\n",
       "    </tr>\n",
       "    <tr>\n",
       "      <th>62</th>\n",
       "      <td>63</td>\n",
       "      <td>A63</td>\n",
       "      <td>15</td>\n",
       "      <td>BANGALORE</td>\n",
       "      <td>Gold</td>\n",
       "      <td>500000.0</td>\n",
       "      <td>C25</td>\n",
       "      <td>Self Employed</td>\n",
       "    </tr>\n",
       "    <tr>\n",
       "      <th>67</th>\n",
       "      <td>68</td>\n",
       "      <td>A68</td>\n",
       "      <td>12</td>\n",
       "      <td>TRIVANDRUM</td>\n",
       "      <td>Silver</td>\n",
       "      <td>100000.0</td>\n",
       "      <td>C30</td>\n",
       "      <td>Self Employed</td>\n",
       "    </tr>\n",
       "    <tr>\n",
       "      <th>69</th>\n",
       "      <td>70</td>\n",
       "      <td>A70</td>\n",
       "      <td>16</td>\n",
       "      <td>BOMBAY</td>\n",
       "      <td>Platimum</td>\n",
       "      <td>10001.0</td>\n",
       "      <td>C32</td>\n",
       "      <td>Self Employed</td>\n",
       "    </tr>\n",
       "    <tr>\n",
       "      <th>89</th>\n",
       "      <td>90</td>\n",
       "      <td>A90</td>\n",
       "      <td>16</td>\n",
       "      <td>COCHIN</td>\n",
       "      <td>Gold</td>\n",
       "      <td>500000.0</td>\n",
       "      <td>C13</td>\n",
       "      <td>Govt</td>\n",
       "    </tr>\n",
       "  </tbody>\n",
       "</table>\n",
       "</div>"
      ],
      "text/plain": [
       "    No Customer  Age        City   Product     Limit Company        Segment\n",
       "13  14      A14   16   BANGALORE      Gold  500000.0     C14   Salaried_Pvt\n",
       "40  41      A41   13      COCHIN  Platimum  500000.0     C23           Govt\n",
       "62  63      A63   15   BANGALORE      Gold  500000.0     C25  Self Employed\n",
       "67  68      A68   12  TRIVANDRUM    Silver  100000.0     C30  Self Employed\n",
       "69  70      A70   16      BOMBAY  Platimum   10001.0     C32  Self Employed\n",
       "89  90      A90   16      COCHIN      Gold  500000.0     C13           Govt"
      ]
     },
     "execution_count": 168,
     "metadata": {},
     "output_type": "execute_result"
    }
   ],
   "source": [
    "# Checking for customers with age less than 18 years\n",
    "\n",
    "customer_acqusition[customer_acqusition.Age<18]"
   ]
  },
  {
   "cell_type": "code",
   "execution_count": 169,
   "id": "738c566d",
   "metadata": {},
   "outputs": [
    {
     "data": {
      "text/plain": [
       "46.49"
      ]
     },
     "execution_count": 169,
     "metadata": {},
     "output_type": "execute_result"
    }
   ],
   "source": [
    "# Mean age of the customers\n",
    "\n",
    "customer_acqusition.Age.mean()"
   ]
  },
  {
   "cell_type": "code",
   "execution_count": 170,
   "id": "0f4bd705",
   "metadata": {},
   "outputs": [],
   "source": [
    "#Replacing the customers' age with age<18 with mean age of the dataset.  \n",
    "\n",
    "customer_acqusition['Age']= pd.Series(np.where(customer_acqusition.Age<18, customer_acqusition.Age.mean(), customer_acqusition.Age ).astype(int))"
   ]
  },
  {
   "cell_type": "code",
   "execution_count": 171,
   "id": "76e93c49",
   "metadata": {},
   "outputs": [
    {
     "data": {
      "text/html": [
       "<div>\n",
       "<style scoped>\n",
       "    .dataframe tbody tr th:only-of-type {\n",
       "        vertical-align: middle;\n",
       "    }\n",
       "\n",
       "    .dataframe tbody tr th {\n",
       "        vertical-align: top;\n",
       "    }\n",
       "\n",
       "    .dataframe thead th {\n",
       "        text-align: right;\n",
       "    }\n",
       "</style>\n",
       "<table border=\"1\" class=\"dataframe\">\n",
       "  <thead>\n",
       "    <tr style=\"text-align: right;\">\n",
       "      <th></th>\n",
       "      <th>No</th>\n",
       "      <th>Customer</th>\n",
       "      <th>Age</th>\n",
       "      <th>City</th>\n",
       "      <th>Product</th>\n",
       "      <th>Limit</th>\n",
       "      <th>Company</th>\n",
       "      <th>Segment</th>\n",
       "    </tr>\n",
       "  </thead>\n",
       "  <tbody>\n",
       "  </tbody>\n",
       "</table>\n",
       "</div>"
      ],
      "text/plain": [
       "Empty DataFrame\n",
       "Columns: [No, Customer, Age, City, Product, Limit, Company, Segment]\n",
       "Index: []"
      ]
     },
     "execution_count": 171,
     "metadata": {},
     "output_type": "execute_result"
    }
   ],
   "source": [
    "# Checking for customers with age less than 18 years\n",
    "\n",
    "customer_acqusition[customer_acqusition.Age<18]"
   ]
  },
  {
   "cell_type": "code",
   "execution_count": 172,
   "id": "d26787b7",
   "metadata": {},
   "outputs": [
    {
     "name": "stdout",
     "output_type": "stream",
     "text": [
      "Implies all customers' ages with age less than 18 have been replaced with the mean age.\n"
     ]
    }
   ],
   "source": [
    "print('Implies all customers\\' ages with age less than 18 have been replaced with the mean age.')"
   ]
  },
  {
   "cell_type": "markdown",
   "id": "0b19c7db",
   "metadata": {},
   "source": [
    "###  b. In case spend amount is more than the limit, replace it with 50% of that customer’s limit. \n",
    "### (customer’s limit provided in acquisition table is the per transaction limit on his card)"
   ]
  },
  {
   "cell_type": "code",
   "execution_count": 173,
   "id": "ecfc8bfc",
   "metadata": {},
   "outputs": [
    {
     "data": {
      "text/html": [
       "<div>\n",
       "<style scoped>\n",
       "    .dataframe tbody tr th:only-of-type {\n",
       "        vertical-align: middle;\n",
       "    }\n",
       "\n",
       "    .dataframe tbody tr th {\n",
       "        vertical-align: top;\n",
       "    }\n",
       "\n",
       "    .dataframe thead th {\n",
       "        text-align: right;\n",
       "    }\n",
       "</style>\n",
       "<table border=\"1\" class=\"dataframe\">\n",
       "  <thead>\n",
       "    <tr style=\"text-align: right;\">\n",
       "      <th></th>\n",
       "      <th>Sl No:</th>\n",
       "      <th>Customer</th>\n",
       "      <th>Month</th>\n",
       "      <th>Type</th>\n",
       "      <th>Amount</th>\n",
       "    </tr>\n",
       "  </thead>\n",
       "  <tbody>\n",
       "    <tr>\n",
       "      <th>0</th>\n",
       "      <td>1</td>\n",
       "      <td>A1</td>\n",
       "      <td>2004-01-12</td>\n",
       "      <td>JEWELLERY</td>\n",
       "      <td>485470.80</td>\n",
       "    </tr>\n",
       "    <tr>\n",
       "      <th>1</th>\n",
       "      <td>2</td>\n",
       "      <td>A1</td>\n",
       "      <td>2004-01-03</td>\n",
       "      <td>PETRO</td>\n",
       "      <td>410556.13</td>\n",
       "    </tr>\n",
       "    <tr>\n",
       "      <th>2</th>\n",
       "      <td>3</td>\n",
       "      <td>A1</td>\n",
       "      <td>2004-01-15</td>\n",
       "      <td>CLOTHES</td>\n",
       "      <td>23740.46</td>\n",
       "    </tr>\n",
       "    <tr>\n",
       "      <th>3</th>\n",
       "      <td>4</td>\n",
       "      <td>A1</td>\n",
       "      <td>2004-01-25</td>\n",
       "      <td>FOOD</td>\n",
       "      <td>484342.47</td>\n",
       "    </tr>\n",
       "    <tr>\n",
       "      <th>4</th>\n",
       "      <td>5</td>\n",
       "      <td>A1</td>\n",
       "      <td>2005-01-17</td>\n",
       "      <td>CAMERA</td>\n",
       "      <td>369694.07</td>\n",
       "    </tr>\n",
       "    <tr>\n",
       "      <th>...</th>\n",
       "      <td>...</td>\n",
       "      <td>...</td>\n",
       "      <td>...</td>\n",
       "      <td>...</td>\n",
       "      <td>...</td>\n",
       "    </tr>\n",
       "    <tr>\n",
       "      <th>1495</th>\n",
       "      <td>1496</td>\n",
       "      <td>A67</td>\n",
       "      <td>2006-02-04</td>\n",
       "      <td>BUS TICKET</td>\n",
       "      <td>356872.73</td>\n",
       "    </tr>\n",
       "    <tr>\n",
       "      <th>1496</th>\n",
       "      <td>1497</td>\n",
       "      <td>A68</td>\n",
       "      <td>2006-03-25</td>\n",
       "      <td>BUS TICKET</td>\n",
       "      <td>204971.10</td>\n",
       "    </tr>\n",
       "    <tr>\n",
       "      <th>1497</th>\n",
       "      <td>1498</td>\n",
       "      <td>A69</td>\n",
       "      <td>2006-03-31</td>\n",
       "      <td>BUS TICKET</td>\n",
       "      <td>50449.44</td>\n",
       "    </tr>\n",
       "    <tr>\n",
       "      <th>1498</th>\n",
       "      <td>1499</td>\n",
       "      <td>A70</td>\n",
       "      <td>2006-03-23</td>\n",
       "      <td>BUS TICKET</td>\n",
       "      <td>80593.94</td>\n",
       "    </tr>\n",
       "    <tr>\n",
       "      <th>1499</th>\n",
       "      <td>1500</td>\n",
       "      <td>A71</td>\n",
       "      <td>2006-03-24</td>\n",
       "      <td>BUS TICKET</td>\n",
       "      <td>194447.62</td>\n",
       "    </tr>\n",
       "  </tbody>\n",
       "</table>\n",
       "<p>1500 rows × 5 columns</p>\n",
       "</div>"
      ],
      "text/plain": [
       "      Sl No: Customer      Month        Type     Amount\n",
       "0          1       A1 2004-01-12   JEWELLERY  485470.80\n",
       "1          2       A1 2004-01-03       PETRO  410556.13\n",
       "2          3       A1 2004-01-15     CLOTHES   23740.46\n",
       "3          4       A1 2004-01-25        FOOD  484342.47\n",
       "4          5       A1 2005-01-17      CAMERA  369694.07\n",
       "...      ...      ...        ...         ...        ...\n",
       "1495    1496      A67 2006-02-04  BUS TICKET  356872.73\n",
       "1496    1497      A68 2006-03-25  BUS TICKET  204971.10\n",
       "1497    1498      A69 2006-03-31  BUS TICKET   50449.44\n",
       "1498    1499      A70 2006-03-23  BUS TICKET   80593.94\n",
       "1499    1500      A71 2006-03-24  BUS TICKET  194447.62\n",
       "\n",
       "[1500 rows x 5 columns]"
      ]
     },
     "execution_count": 173,
     "metadata": {},
     "output_type": "execute_result"
    }
   ],
   "source": [
    "spend"
   ]
  },
  {
   "cell_type": "code",
   "execution_count": 174,
   "id": "5f681185",
   "metadata": {},
   "outputs": [
    {
     "data": {
      "text/plain": [
       "Sl No:               int64\n",
       "Customer            object\n",
       "Month       datetime64[ns]\n",
       "Type                object\n",
       "Amount             float64\n",
       "dtype: object"
      ]
     },
     "execution_count": 174,
     "metadata": {},
     "output_type": "execute_result"
    }
   ],
   "source": [
    "spend.dtypes"
   ]
  },
  {
   "cell_type": "code",
   "execution_count": 175,
   "id": "765641d1",
   "metadata": {},
   "outputs": [],
   "source": [
    "q1_df = pd.merge(left=spend, right= customer_acqusition, how= 'left', on='Customer', indicator=True )"
   ]
  },
  {
   "cell_type": "code",
   "execution_count": 176,
   "id": "2f04ffd9",
   "metadata": {},
   "outputs": [
    {
     "data": {
      "text/html": [
       "<div>\n",
       "<style scoped>\n",
       "    .dataframe tbody tr th:only-of-type {\n",
       "        vertical-align: middle;\n",
       "    }\n",
       "\n",
       "    .dataframe tbody tr th {\n",
       "        vertical-align: top;\n",
       "    }\n",
       "\n",
       "    .dataframe thead th {\n",
       "        text-align: right;\n",
       "    }\n",
       "</style>\n",
       "<table border=\"1\" class=\"dataframe\">\n",
       "  <thead>\n",
       "    <tr style=\"text-align: right;\">\n",
       "      <th></th>\n",
       "      <th>Sl No:</th>\n",
       "      <th>Customer</th>\n",
       "      <th>Month</th>\n",
       "      <th>Type</th>\n",
       "      <th>Amount</th>\n",
       "      <th>No</th>\n",
       "      <th>Age</th>\n",
       "      <th>City</th>\n",
       "      <th>Product</th>\n",
       "      <th>Limit</th>\n",
       "      <th>Company</th>\n",
       "      <th>Segment</th>\n",
       "      <th>_merge</th>\n",
       "    </tr>\n",
       "  </thead>\n",
       "  <tbody>\n",
       "    <tr>\n",
       "      <th>7</th>\n",
       "      <td>8</td>\n",
       "      <td>A8</td>\n",
       "      <td>2004-02-05</td>\n",
       "      <td>BIKE</td>\n",
       "      <td>155562.58</td>\n",
       "      <td>8</td>\n",
       "      <td>67</td>\n",
       "      <td>PATNA</td>\n",
       "      <td>Silver</td>\n",
       "      <td>100002.0</td>\n",
       "      <td>C8</td>\n",
       "      <td>Salaried_Pvt</td>\n",
       "      <td>both</td>\n",
       "    </tr>\n",
       "    <tr>\n",
       "      <th>18</th>\n",
       "      <td>19</td>\n",
       "      <td>A19</td>\n",
       "      <td>2005-04-04</td>\n",
       "      <td>FOOD</td>\n",
       "      <td>441442.26</td>\n",
       "      <td>19</td>\n",
       "      <td>27</td>\n",
       "      <td>BANGALORE</td>\n",
       "      <td>Platimum</td>\n",
       "      <td>10000.0</td>\n",
       "      <td>C19</td>\n",
       "      <td>Salaried_Pvt</td>\n",
       "      <td>both</td>\n",
       "    </tr>\n",
       "    <tr>\n",
       "      <th>19</th>\n",
       "      <td>20</td>\n",
       "      <td>A20</td>\n",
       "      <td>2006-04-30</td>\n",
       "      <td>JEWELLERY</td>\n",
       "      <td>356733.48</td>\n",
       "      <td>20</td>\n",
       "      <td>27</td>\n",
       "      <td>CALCUTTA</td>\n",
       "      <td>Platimum</td>\n",
       "      <td>10001.0</td>\n",
       "      <td>C20</td>\n",
       "      <td>Govt</td>\n",
       "      <td>both</td>\n",
       "    </tr>\n",
       "    <tr>\n",
       "      <th>20</th>\n",
       "      <td>21</td>\n",
       "      <td>A21</td>\n",
       "      <td>2004-04-25</td>\n",
       "      <td>PETRO</td>\n",
       "      <td>190011.63</td>\n",
       "      <td>21</td>\n",
       "      <td>57</td>\n",
       "      <td>COCHIN</td>\n",
       "      <td>Platimum</td>\n",
       "      <td>10002.0</td>\n",
       "      <td>C21</td>\n",
       "      <td>Normal Salary</td>\n",
       "      <td>both</td>\n",
       "    </tr>\n",
       "    <tr>\n",
       "      <th>21</th>\n",
       "      <td>22</td>\n",
       "      <td>A22</td>\n",
       "      <td>2006-04-19</td>\n",
       "      <td>CLOTHES</td>\n",
       "      <td>423672.50</td>\n",
       "      <td>22</td>\n",
       "      <td>27</td>\n",
       "      <td>BOMBAY</td>\n",
       "      <td>Silver</td>\n",
       "      <td>100000.0</td>\n",
       "      <td>C22</td>\n",
       "      <td>Self Employed</td>\n",
       "      <td>both</td>\n",
       "    </tr>\n",
       "    <tr>\n",
       "      <th>...</th>\n",
       "      <td>...</td>\n",
       "      <td>...</td>\n",
       "      <td>...</td>\n",
       "      <td>...</td>\n",
       "      <td>...</td>\n",
       "      <td>...</td>\n",
       "      <td>...</td>\n",
       "      <td>...</td>\n",
       "      <td>...</td>\n",
       "      <td>...</td>\n",
       "      <td>...</td>\n",
       "      <td>...</td>\n",
       "      <td>...</td>\n",
       "    </tr>\n",
       "    <tr>\n",
       "      <th>1485</th>\n",
       "      <td>1486</td>\n",
       "      <td>A59</td>\n",
       "      <td>2004-01-15</td>\n",
       "      <td>FOOD</td>\n",
       "      <td>181115.20</td>\n",
       "      <td>59</td>\n",
       "      <td>74</td>\n",
       "      <td>BANGALORE</td>\n",
       "      <td>Silver</td>\n",
       "      <td>100003.0</td>\n",
       "      <td>C21</td>\n",
       "      <td>Normal Salary</td>\n",
       "      <td>both</td>\n",
       "    </tr>\n",
       "    <tr>\n",
       "      <th>1496</th>\n",
       "      <td>1497</td>\n",
       "      <td>A68</td>\n",
       "      <td>2006-03-25</td>\n",
       "      <td>BUS TICKET</td>\n",
       "      <td>204971.10</td>\n",
       "      <td>68</td>\n",
       "      <td>46</td>\n",
       "      <td>TRIVANDRUM</td>\n",
       "      <td>Silver</td>\n",
       "      <td>100000.0</td>\n",
       "      <td>C30</td>\n",
       "      <td>Self Employed</td>\n",
       "      <td>both</td>\n",
       "    </tr>\n",
       "    <tr>\n",
       "      <th>1497</th>\n",
       "      <td>1498</td>\n",
       "      <td>A69</td>\n",
       "      <td>2006-03-31</td>\n",
       "      <td>BUS TICKET</td>\n",
       "      <td>50449.44</td>\n",
       "      <td>69</td>\n",
       "      <td>33</td>\n",
       "      <td>CALCUTTA</td>\n",
       "      <td>Platimum</td>\n",
       "      <td>10000.0</td>\n",
       "      <td>C31</td>\n",
       "      <td>Self Employed</td>\n",
       "      <td>both</td>\n",
       "    </tr>\n",
       "    <tr>\n",
       "      <th>1498</th>\n",
       "      <td>1499</td>\n",
       "      <td>A70</td>\n",
       "      <td>2006-03-23</td>\n",
       "      <td>BUS TICKET</td>\n",
       "      <td>80593.94</td>\n",
       "      <td>70</td>\n",
       "      <td>46</td>\n",
       "      <td>BOMBAY</td>\n",
       "      <td>Platimum</td>\n",
       "      <td>10001.0</td>\n",
       "      <td>C32</td>\n",
       "      <td>Self Employed</td>\n",
       "      <td>both</td>\n",
       "    </tr>\n",
       "    <tr>\n",
       "      <th>1499</th>\n",
       "      <td>1500</td>\n",
       "      <td>A71</td>\n",
       "      <td>2006-03-24</td>\n",
       "      <td>BUS TICKET</td>\n",
       "      <td>194447.62</td>\n",
       "      <td>71</td>\n",
       "      <td>34</td>\n",
       "      <td>BOMBAY</td>\n",
       "      <td>Platimum</td>\n",
       "      <td>10002.0</td>\n",
       "      <td>C33</td>\n",
       "      <td>Self Employed</td>\n",
       "      <td>both</td>\n",
       "    </tr>\n",
       "  </tbody>\n",
       "</table>\n",
       "<p>607 rows × 13 columns</p>\n",
       "</div>"
      ],
      "text/plain": [
       "      Sl No: Customer      Month        Type     Amount  No  Age        City  \\\n",
       "7          8       A8 2004-02-05        BIKE  155562.58   8   67       PATNA   \n",
       "18        19      A19 2005-04-04        FOOD  441442.26  19   27   BANGALORE   \n",
       "19        20      A20 2006-04-30   JEWELLERY  356733.48  20   27    CALCUTTA   \n",
       "20        21      A21 2004-04-25       PETRO  190011.63  21   57      COCHIN   \n",
       "21        22      A22 2006-04-19     CLOTHES  423672.50  22   27      BOMBAY   \n",
       "...      ...      ...        ...         ...        ...  ..  ...         ...   \n",
       "1485    1486      A59 2004-01-15        FOOD  181115.20  59   74   BANGALORE   \n",
       "1496    1497      A68 2006-03-25  BUS TICKET  204971.10  68   46  TRIVANDRUM   \n",
       "1497    1498      A69 2006-03-31  BUS TICKET   50449.44  69   33    CALCUTTA   \n",
       "1498    1499      A70 2006-03-23  BUS TICKET   80593.94  70   46      BOMBAY   \n",
       "1499    1500      A71 2006-03-24  BUS TICKET  194447.62  71   34      BOMBAY   \n",
       "\n",
       "       Product     Limit Company        Segment _merge  \n",
       "7       Silver  100002.0      C8   Salaried_Pvt   both  \n",
       "18    Platimum   10000.0     C19   Salaried_Pvt   both  \n",
       "19    Platimum   10001.0     C20           Govt   both  \n",
       "20    Platimum   10002.0     C21  Normal Salary   both  \n",
       "21      Silver  100000.0     C22  Self Employed   both  \n",
       "...        ...       ...     ...            ...    ...  \n",
       "1485    Silver  100003.0     C21  Normal Salary   both  \n",
       "1496    Silver  100000.0     C30  Self Employed   both  \n",
       "1497  Platimum   10000.0     C31  Self Employed   both  \n",
       "1498  Platimum   10001.0     C32  Self Employed   both  \n",
       "1499  Platimum   10002.0     C33  Self Employed   both  \n",
       "\n",
       "[607 rows x 13 columns]"
      ]
     },
     "execution_count": 176,
     "metadata": {},
     "output_type": "execute_result"
    }
   ],
   "source": [
    "q1_df[q1_df.Amount> q1_df.Limit]"
   ]
  },
  {
   "cell_type": "code",
   "execution_count": 177,
   "id": "07ed1816",
   "metadata": {},
   "outputs": [],
   "source": [
    "spend['Amount']=pd.Series(np.where(q1_df.Amount> q1_df.Limit, (1/2)*q1_df.Limit, q1_df.Amount ))"
   ]
  },
  {
   "cell_type": "code",
   "execution_count": 178,
   "id": "84a7c7e0",
   "metadata": {},
   "outputs": [],
   "source": [
    "#Also changing the amount in the q1_df dataframe\n",
    "\n",
    "q1_df['Amount']=pd.Series(np.where(q1_df.Amount> q1_df.Limit, (1/2)*q1_df.Limit, q1_df.Amount ))"
   ]
  },
  {
   "cell_type": "code",
   "execution_count": 179,
   "id": "4d7c9171",
   "metadata": {},
   "outputs": [
    {
     "data": {
      "text/html": [
       "<div>\n",
       "<style scoped>\n",
       "    .dataframe tbody tr th:only-of-type {\n",
       "        vertical-align: middle;\n",
       "    }\n",
       "\n",
       "    .dataframe tbody tr th {\n",
       "        vertical-align: top;\n",
       "    }\n",
       "\n",
       "    .dataframe thead th {\n",
       "        text-align: right;\n",
       "    }\n",
       "</style>\n",
       "<table border=\"1\" class=\"dataframe\">\n",
       "  <thead>\n",
       "    <tr style=\"text-align: right;\">\n",
       "      <th></th>\n",
       "      <th>Sl No:</th>\n",
       "      <th>Customer</th>\n",
       "      <th>Month</th>\n",
       "      <th>Type</th>\n",
       "      <th>Amount</th>\n",
       "    </tr>\n",
       "  </thead>\n",
       "  <tbody>\n",
       "    <tr>\n",
       "      <th>0</th>\n",
       "      <td>1</td>\n",
       "      <td>A1</td>\n",
       "      <td>2004-01-12</td>\n",
       "      <td>JEWELLERY</td>\n",
       "      <td>485470.80</td>\n",
       "    </tr>\n",
       "    <tr>\n",
       "      <th>1</th>\n",
       "      <td>2</td>\n",
       "      <td>A1</td>\n",
       "      <td>2004-01-03</td>\n",
       "      <td>PETRO</td>\n",
       "      <td>410556.13</td>\n",
       "    </tr>\n",
       "    <tr>\n",
       "      <th>2</th>\n",
       "      <td>3</td>\n",
       "      <td>A1</td>\n",
       "      <td>2004-01-15</td>\n",
       "      <td>CLOTHES</td>\n",
       "      <td>23740.46</td>\n",
       "    </tr>\n",
       "    <tr>\n",
       "      <th>3</th>\n",
       "      <td>4</td>\n",
       "      <td>A1</td>\n",
       "      <td>2004-01-25</td>\n",
       "      <td>FOOD</td>\n",
       "      <td>484342.47</td>\n",
       "    </tr>\n",
       "    <tr>\n",
       "      <th>4</th>\n",
       "      <td>5</td>\n",
       "      <td>A1</td>\n",
       "      <td>2005-01-17</td>\n",
       "      <td>CAMERA</td>\n",
       "      <td>369694.07</td>\n",
       "    </tr>\n",
       "  </tbody>\n",
       "</table>\n",
       "</div>"
      ],
      "text/plain": [
       "   Sl No: Customer      Month       Type     Amount\n",
       "0       1       A1 2004-01-12  JEWELLERY  485470.80\n",
       "1       2       A1 2004-01-03      PETRO  410556.13\n",
       "2       3       A1 2004-01-15    CLOTHES   23740.46\n",
       "3       4       A1 2004-01-25       FOOD  484342.47\n",
       "4       5       A1 2005-01-17     CAMERA  369694.07"
      ]
     },
     "execution_count": 179,
     "metadata": {},
     "output_type": "execute_result"
    }
   ],
   "source": [
    "spend.head()"
   ]
  },
  {
   "cell_type": "markdown",
   "id": "c702bf24",
   "metadata": {},
   "source": [
    "###  c. Incase the repayment amount is more than the limit, replace the repayment with the limit."
   ]
  },
  {
   "cell_type": "code",
   "execution_count": 180,
   "id": "8a048e5b",
   "metadata": {},
   "outputs": [],
   "source": [
    "q1_df2= pd.merge(left=repayment, right= customer_acqusition, how= 'left', on='Customer', indicator=True )"
   ]
  },
  {
   "cell_type": "code",
   "execution_count": 181,
   "id": "ad404126",
   "metadata": {},
   "outputs": [
    {
     "data": {
      "text/html": [
       "<div>\n",
       "<style scoped>\n",
       "    .dataframe tbody tr th:only-of-type {\n",
       "        vertical-align: middle;\n",
       "    }\n",
       "\n",
       "    .dataframe tbody tr th {\n",
       "        vertical-align: top;\n",
       "    }\n",
       "\n",
       "    .dataframe thead th {\n",
       "        text-align: right;\n",
       "    }\n",
       "</style>\n",
       "<table border=\"1\" class=\"dataframe\">\n",
       "  <thead>\n",
       "    <tr style=\"text-align: right;\">\n",
       "      <th></th>\n",
       "      <th>SL No:</th>\n",
       "      <th>Customer</th>\n",
       "      <th>Month</th>\n",
       "      <th>Amount</th>\n",
       "      <th>No</th>\n",
       "      <th>Age</th>\n",
       "      <th>City</th>\n",
       "      <th>Product</th>\n",
       "      <th>Limit</th>\n",
       "      <th>Company</th>\n",
       "      <th>Segment</th>\n",
       "      <th>_merge</th>\n",
       "    </tr>\n",
       "  </thead>\n",
       "  <tbody>\n",
       "    <tr>\n",
       "      <th>7</th>\n",
       "      <td>8</td>\n",
       "      <td>A8</td>\n",
       "      <td>2004-02-05</td>\n",
       "      <td>156913.59</td>\n",
       "      <td>8</td>\n",
       "      <td>67</td>\n",
       "      <td>PATNA</td>\n",
       "      <td>Silver</td>\n",
       "      <td>100002.0</td>\n",
       "      <td>C8</td>\n",
       "      <td>Salaried_Pvt</td>\n",
       "      <td>both</td>\n",
       "    </tr>\n",
       "    <tr>\n",
       "      <th>8</th>\n",
       "      <td>9</td>\n",
       "      <td>A9</td>\n",
       "      <td>2005-02-28</td>\n",
       "      <td>417294.81</td>\n",
       "      <td>9</td>\n",
       "      <td>79</td>\n",
       "      <td>CHENNAI</td>\n",
       "      <td>Silver</td>\n",
       "      <td>100003.0</td>\n",
       "      <td>C9</td>\n",
       "      <td>Govt</td>\n",
       "      <td>both</td>\n",
       "    </tr>\n",
       "    <tr>\n",
       "      <th>17</th>\n",
       "      <td>18</td>\n",
       "      <td>A18</td>\n",
       "      <td>2006-03-05</td>\n",
       "      <td>213352.06</td>\n",
       "      <td>18</td>\n",
       "      <td>34</td>\n",
       "      <td>BANGALORE</td>\n",
       "      <td>Silver</td>\n",
       "      <td>100000.0</td>\n",
       "      <td>C18</td>\n",
       "      <td>Salaried_MNC</td>\n",
       "      <td>both</td>\n",
       "    </tr>\n",
       "    <tr>\n",
       "      <th>18</th>\n",
       "      <td>19</td>\n",
       "      <td>A19</td>\n",
       "      <td>2005-04-04</td>\n",
       "      <td>347826.27</td>\n",
       "      <td>19</td>\n",
       "      <td>27</td>\n",
       "      <td>BANGALORE</td>\n",
       "      <td>Platimum</td>\n",
       "      <td>10000.0</td>\n",
       "      <td>C19</td>\n",
       "      <td>Salaried_Pvt</td>\n",
       "      <td>both</td>\n",
       "    </tr>\n",
       "    <tr>\n",
       "      <th>19</th>\n",
       "      <td>20</td>\n",
       "      <td>A20</td>\n",
       "      <td>2006-04-30</td>\n",
       "      <td>471099.22</td>\n",
       "      <td>20</td>\n",
       "      <td>27</td>\n",
       "      <td>CALCUTTA</td>\n",
       "      <td>Platimum</td>\n",
       "      <td>10001.0</td>\n",
       "      <td>C20</td>\n",
       "      <td>Govt</td>\n",
       "      <td>both</td>\n",
       "    </tr>\n",
       "    <tr>\n",
       "      <th>...</th>\n",
       "      <td>...</td>\n",
       "      <td>...</td>\n",
       "      <td>...</td>\n",
       "      <td>...</td>\n",
       "      <td>...</td>\n",
       "      <td>...</td>\n",
       "      <td>...</td>\n",
       "      <td>...</td>\n",
       "      <td>...</td>\n",
       "      <td>...</td>\n",
       "      <td>...</td>\n",
       "      <td>...</td>\n",
       "    </tr>\n",
       "    <tr>\n",
       "      <th>1483</th>\n",
       "      <td>1484</td>\n",
       "      <td>A57</td>\n",
       "      <td>2004-03-19</td>\n",
       "      <td>207786.09</td>\n",
       "      <td>57</td>\n",
       "      <td>37</td>\n",
       "      <td>TRIVANDRUM</td>\n",
       "      <td>Silver</td>\n",
       "      <td>100001.0</td>\n",
       "      <td>C19</td>\n",
       "      <td>Normal Salary</td>\n",
       "      <td>both</td>\n",
       "    </tr>\n",
       "    <tr>\n",
       "      <th>1496</th>\n",
       "      <td>1497</td>\n",
       "      <td>A68</td>\n",
       "      <td>2006-05-10</td>\n",
       "      <td>319836.49</td>\n",
       "      <td>68</td>\n",
       "      <td>46</td>\n",
       "      <td>TRIVANDRUM</td>\n",
       "      <td>Silver</td>\n",
       "      <td>100000.0</td>\n",
       "      <td>C30</td>\n",
       "      <td>Self Employed</td>\n",
       "      <td>both</td>\n",
       "    </tr>\n",
       "    <tr>\n",
       "      <th>1497</th>\n",
       "      <td>1498</td>\n",
       "      <td>A69</td>\n",
       "      <td>2006-07-11</td>\n",
       "      <td>247628.45</td>\n",
       "      <td>69</td>\n",
       "      <td>33</td>\n",
       "      <td>CALCUTTA</td>\n",
       "      <td>Platimum</td>\n",
       "      <td>10000.0</td>\n",
       "      <td>C31</td>\n",
       "      <td>Self Employed</td>\n",
       "      <td>both</td>\n",
       "    </tr>\n",
       "    <tr>\n",
       "      <th>1498</th>\n",
       "      <td>1499</td>\n",
       "      <td>A70</td>\n",
       "      <td>2005-08-12</td>\n",
       "      <td>454016.51</td>\n",
       "      <td>70</td>\n",
       "      <td>46</td>\n",
       "      <td>BOMBAY</td>\n",
       "      <td>Platimum</td>\n",
       "      <td>10001.0</td>\n",
       "      <td>C32</td>\n",
       "      <td>Self Employed</td>\n",
       "      <td>both</td>\n",
       "    </tr>\n",
       "    <tr>\n",
       "      <th>1499</th>\n",
       "      <td>1500</td>\n",
       "      <td>A71</td>\n",
       "      <td>2004-09-13</td>\n",
       "      <td>56286.33</td>\n",
       "      <td>71</td>\n",
       "      <td>34</td>\n",
       "      <td>BOMBAY</td>\n",
       "      <td>Platimum</td>\n",
       "      <td>10002.0</td>\n",
       "      <td>C33</td>\n",
       "      <td>Self Employed</td>\n",
       "      <td>both</td>\n",
       "    </tr>\n",
       "  </tbody>\n",
       "</table>\n",
       "<p>600 rows × 12 columns</p>\n",
       "</div>"
      ],
      "text/plain": [
       "      SL No: Customer      Month     Amount  No  Age        City   Product  \\\n",
       "7          8       A8 2004-02-05  156913.59   8   67       PATNA    Silver   \n",
       "8          9       A9 2005-02-28  417294.81   9   79     CHENNAI    Silver   \n",
       "17        18      A18 2006-03-05  213352.06  18   34   BANGALORE    Silver   \n",
       "18        19      A19 2005-04-04  347826.27  19   27   BANGALORE  Platimum   \n",
       "19        20      A20 2006-04-30  471099.22  20   27    CALCUTTA  Platimum   \n",
       "...      ...      ...        ...        ...  ..  ...         ...       ...   \n",
       "1483    1484      A57 2004-03-19  207786.09  57   37  TRIVANDRUM    Silver   \n",
       "1496    1497      A68 2006-05-10  319836.49  68   46  TRIVANDRUM    Silver   \n",
       "1497    1498      A69 2006-07-11  247628.45  69   33    CALCUTTA  Platimum   \n",
       "1498    1499      A70 2005-08-12  454016.51  70   46      BOMBAY  Platimum   \n",
       "1499    1500      A71 2004-09-13   56286.33  71   34      BOMBAY  Platimum   \n",
       "\n",
       "         Limit Company        Segment _merge  \n",
       "7     100002.0      C8   Salaried_Pvt   both  \n",
       "8     100003.0      C9           Govt   both  \n",
       "17    100000.0     C18   Salaried_MNC   both  \n",
       "18     10000.0     C19   Salaried_Pvt   both  \n",
       "19     10001.0     C20           Govt   both  \n",
       "...        ...     ...            ...    ...  \n",
       "1483  100001.0     C19  Normal Salary   both  \n",
       "1496  100000.0     C30  Self Employed   both  \n",
       "1497   10000.0     C31  Self Employed   both  \n",
       "1498   10001.0     C32  Self Employed   both  \n",
       "1499   10002.0     C33  Self Employed   both  \n",
       "\n",
       "[600 rows x 12 columns]"
      ]
     },
     "execution_count": 181,
     "metadata": {},
     "output_type": "execute_result"
    }
   ],
   "source": [
    "q1_df2[q1_df2.Amount> q1_df2.Limit]"
   ]
  },
  {
   "cell_type": "code",
   "execution_count": 182,
   "id": "253d716a",
   "metadata": {},
   "outputs": [],
   "source": [
    "repayment['Amount']=pd.Series(np.where(q1_df2.Amount> q1_df2.Limit, q1_df.Limit, q1_df.Amount ))"
   ]
  },
  {
   "cell_type": "code",
   "execution_count": 183,
   "id": "08acb79f",
   "metadata": {},
   "outputs": [],
   "source": [
    "#Also changing the amount in q1_df2 dataframe.\n",
    "\n",
    "q1_df2['Amount']=pd.Series(np.where(q1_df2.Amount> q1_df2.Limit, q1_df.Limit, q1_df.Amount ))"
   ]
  },
  {
   "cell_type": "code",
   "execution_count": 184,
   "id": "83f9966c",
   "metadata": {},
   "outputs": [
    {
     "data": {
      "text/html": [
       "<div>\n",
       "<style scoped>\n",
       "    .dataframe tbody tr th:only-of-type {\n",
       "        vertical-align: middle;\n",
       "    }\n",
       "\n",
       "    .dataframe tbody tr th {\n",
       "        vertical-align: top;\n",
       "    }\n",
       "\n",
       "    .dataframe thead th {\n",
       "        text-align: right;\n",
       "    }\n",
       "</style>\n",
       "<table border=\"1\" class=\"dataframe\">\n",
       "  <thead>\n",
       "    <tr style=\"text-align: right;\">\n",
       "      <th></th>\n",
       "      <th>SL No:</th>\n",
       "      <th>Customer</th>\n",
       "      <th>Month</th>\n",
       "      <th>Amount</th>\n",
       "    </tr>\n",
       "  </thead>\n",
       "  <tbody>\n",
       "    <tr>\n",
       "      <th>0</th>\n",
       "      <td>1</td>\n",
       "      <td>A1</td>\n",
       "      <td>2004-01-12</td>\n",
       "      <td>485470.80</td>\n",
       "    </tr>\n",
       "    <tr>\n",
       "      <th>1</th>\n",
       "      <td>2</td>\n",
       "      <td>A1</td>\n",
       "      <td>2004-01-03</td>\n",
       "      <td>410556.13</td>\n",
       "    </tr>\n",
       "    <tr>\n",
       "      <th>2</th>\n",
       "      <td>3</td>\n",
       "      <td>A1</td>\n",
       "      <td>2004-01-15</td>\n",
       "      <td>23740.46</td>\n",
       "    </tr>\n",
       "    <tr>\n",
       "      <th>3</th>\n",
       "      <td>4</td>\n",
       "      <td>A1</td>\n",
       "      <td>2004-01-25</td>\n",
       "      <td>484342.47</td>\n",
       "    </tr>\n",
       "    <tr>\n",
       "      <th>4</th>\n",
       "      <td>5</td>\n",
       "      <td>A1</td>\n",
       "      <td>2005-01-17</td>\n",
       "      <td>369694.07</td>\n",
       "    </tr>\n",
       "  </tbody>\n",
       "</table>\n",
       "</div>"
      ],
      "text/plain": [
       "   SL No: Customer      Month     Amount\n",
       "0       1       A1 2004-01-12  485470.80\n",
       "1       2       A1 2004-01-03  410556.13\n",
       "2       3       A1 2004-01-15   23740.46\n",
       "3       4       A1 2004-01-25  484342.47\n",
       "4       5       A1 2005-01-17  369694.07"
      ]
     },
     "execution_count": 184,
     "metadata": {},
     "output_type": "execute_result"
    }
   ],
   "source": [
    "repayment.head()"
   ]
  },
  {
   "cell_type": "markdown",
   "id": "c6371dd6",
   "metadata": {},
   "source": [
    "### 2. From the above dataset create the following summaries:\n",
    "### a. How many distinct customers exist?"
   ]
  },
  {
   "cell_type": "code",
   "execution_count": 186,
   "id": "e1f9b873",
   "metadata": {},
   "outputs": [
    {
     "data": {
      "text/plain": [
       "100"
      ]
     },
     "execution_count": 186,
     "metadata": {},
     "output_type": "execute_result"
    }
   ],
   "source": [
    "customer_acqusition.Customer.nunique()"
   ]
  },
  {
   "cell_type": "markdown",
   "id": "fb50d38a",
   "metadata": {},
   "source": [
    "### b. How many distinct categories exist?"
   ]
  },
  {
   "cell_type": "code",
   "execution_count": 187,
   "id": "0b354f14",
   "metadata": {},
   "outputs": [
    {
     "name": "stdout",
     "output_type": "stream",
     "text": [
      "3 distinct categories exist which are:\n",
      "\n",
      "['Gold' 'Silver' 'Platimum']\n"
     ]
    }
   ],
   "source": [
    "print(f\"{customer_acqusition.Product.nunique()} distinct categories exist which are:\\n\" )\n",
    "print(customer_acqusition.Product.unique()) "
   ]
  },
  {
   "cell_type": "markdown",
   "id": "0e23b69f",
   "metadata": {},
   "source": [
    "###  c. What is the average monthly spend by customers?"
   ]
  },
  {
   "cell_type": "code",
   "execution_count": 233,
   "id": "447a6bbb",
   "metadata": {},
   "outputs": [
    {
     "data": {
      "text/plain": [
       "380244.09"
      ]
     },
     "execution_count": 233,
     "metadata": {},
     "output_type": "execute_result"
    }
   ],
   "source": [
    "round((spend.groupby([spend.Month.dt.month_name(),spend.Customer] )['Amount'].sum()).mean(),2)"
   ]
  },
  {
   "cell_type": "markdown",
   "id": "70cb7d76",
   "metadata": {},
   "source": [
    "###  d. What is the average monthly repayment by customers?"
   ]
  },
  {
   "cell_type": "code",
   "execution_count": 238,
   "id": "165a0404",
   "metadata": {},
   "outputs": [
    {
     "data": {
      "text/plain": [
       "429216.46"
      ]
     },
     "execution_count": 238,
     "metadata": {},
     "output_type": "execute_result"
    }
   ],
   "source": [
    "round((repayment.groupby([repayment.Month.dt.month_name(),repayment.Customer])['Amount'].sum()).mean(),2)"
   ]
  },
  {
   "cell_type": "markdown",
   "id": "b8992c48",
   "metadata": {},
   "source": [
    "###  e. If the monthly rate of interest is 2.9%, what is the profit for the bank for each month? \n",
    "### (Profit is defined as interest earned on Monthly Profit. Monthly Profit = Monthly repayment \n",
    "### '– Monthly spend. Interest is earned only on positive profits and not on negative amounts)"
   ]
  },
  {
   "cell_type": "code",
   "execution_count": 259,
   "id": "a2a9fb63",
   "metadata": {},
   "outputs": [],
   "source": [
    "repayment['year']=pd.Series(repayment.Month.dt.year)\n",
    "repayment['Month_no']=pd.Series(repayment.Month.dt.month)\n",
    "repayment['Month_name']=pd.Series(repayment.Month.dt.month_name())"
   ]
  },
  {
   "cell_type": "code",
   "execution_count": 262,
   "id": "3c537d50",
   "metadata": {},
   "outputs": [],
   "source": [
    "spend['year']=pd.Series(spend.Month.dt.year)\n",
    "spend['Month_no']=pd.Series(spend.Month.dt.month)\n",
    "spend['Month_name']=pd.Series(spend.Month.dt.month_name())"
   ]
  },
  {
   "cell_type": "code",
   "execution_count": 274,
   "id": "3593f85b",
   "metadata": {},
   "outputs": [
    {
     "data": {
      "text/html": [
       "<div>\n",
       "<style scoped>\n",
       "    .dataframe tbody tr th:only-of-type {\n",
       "        vertical-align: middle;\n",
       "    }\n",
       "\n",
       "    .dataframe tbody tr th {\n",
       "        vertical-align: top;\n",
       "    }\n",
       "\n",
       "    .dataframe thead th {\n",
       "        text-align: right;\n",
       "    }\n",
       "</style>\n",
       "<table border=\"1\" class=\"dataframe\">\n",
       "  <thead>\n",
       "    <tr style=\"text-align: right;\">\n",
       "      <th></th>\n",
       "      <th>year</th>\n",
       "      <th>Month_no</th>\n",
       "      <th>Month_name</th>\n",
       "      <th>Amount</th>\n",
       "    </tr>\n",
       "  </thead>\n",
       "  <tbody>\n",
       "    <tr>\n",
       "      <th>0</th>\n",
       "      <td>2004</td>\n",
       "      <td>1</td>\n",
       "      <td>January</td>\n",
       "      <td>48095890.83</td>\n",
       "    </tr>\n",
       "    <tr>\n",
       "      <th>1</th>\n",
       "      <td>2004</td>\n",
       "      <td>2</td>\n",
       "      <td>February</td>\n",
       "      <td>2857958.67</td>\n",
       "    </tr>\n",
       "    <tr>\n",
       "      <th>2</th>\n",
       "      <td>2004</td>\n",
       "      <td>3</td>\n",
       "      <td>March</td>\n",
       "      <td>2915017.80</td>\n",
       "    </tr>\n",
       "    <tr>\n",
       "      <th>3</th>\n",
       "      <td>2004</td>\n",
       "      <td>4</td>\n",
       "      <td>April</td>\n",
       "      <td>4119066.86</td>\n",
       "    </tr>\n",
       "    <tr>\n",
       "      <th>4</th>\n",
       "      <td>2004</td>\n",
       "      <td>5</td>\n",
       "      <td>May</td>\n",
       "      <td>4182803.20</td>\n",
       "    </tr>\n",
       "  </tbody>\n",
       "</table>\n",
       "</div>"
      ],
      "text/plain": [
       "   year  Month_no Month_name       Amount\n",
       "0  2004         1    January  48095890.83\n",
       "1  2004         2   February   2857958.67\n",
       "2  2004         3      March   2915017.80\n",
       "3  2004         4      April   4119066.86\n",
       "4  2004         5        May   4182803.20"
      ]
     },
     "execution_count": 274,
     "metadata": {},
     "output_type": "execute_result"
    }
   ],
   "source": [
    "df_repayment.head()"
   ]
  },
  {
   "cell_type": "code",
   "execution_count": 268,
   "id": "66fc5343",
   "metadata": {},
   "outputs": [],
   "source": [
    "df_repayment= repayment.groupby(['year','Month_no','Month_name'])['Amount'].sum().reset_index()"
   ]
  },
  {
   "cell_type": "code",
   "execution_count": 270,
   "id": "b506372b",
   "metadata": {},
   "outputs": [],
   "source": [
    "df_spend= spend.groupby(['year','Month_no','Month_name'])['Amount'].sum().reset_index()"
   ]
  },
  {
   "cell_type": "code",
   "execution_count": 276,
   "id": "0668be14",
   "metadata": {},
   "outputs": [],
   "source": [
    "df_repay_spend= pd.merge( left = df_repayment, right = df_spend, \n",
    "             how = 'inner', left_on = ['year', 'Month_no', 'Month_name'], right_on =['year', 'Month_no', 'Month_name'], indicator=True, suffixes=['_repayment', '_spend'])"
   ]
  },
  {
   "cell_type": "code",
   "execution_count": 279,
   "id": "20661ff9",
   "metadata": {},
   "outputs": [
    {
     "data": {
      "text/html": [
       "<div>\n",
       "<style scoped>\n",
       "    .dataframe tbody tr th:only-of-type {\n",
       "        vertical-align: middle;\n",
       "    }\n",
       "\n",
       "    .dataframe tbody tr th {\n",
       "        vertical-align: top;\n",
       "    }\n",
       "\n",
       "    .dataframe thead th {\n",
       "        text-align: right;\n",
       "    }\n",
       "</style>\n",
       "<table border=\"1\" class=\"dataframe\">\n",
       "  <thead>\n",
       "    <tr style=\"text-align: right;\">\n",
       "      <th></th>\n",
       "      <th>year</th>\n",
       "      <th>Month_no</th>\n",
       "      <th>Month_name</th>\n",
       "      <th>Amount_repayment</th>\n",
       "      <th>Amount_spend</th>\n",
       "      <th>_merge</th>\n",
       "      <th>Profit</th>\n",
       "    </tr>\n",
       "  </thead>\n",
       "  <tbody>\n",
       "    <tr>\n",
       "      <th>0</th>\n",
       "      <td>2004</td>\n",
       "      <td>1</td>\n",
       "      <td>January</td>\n",
       "      <td>48095890.83</td>\n",
       "      <td>44279811.96</td>\n",
       "      <td>both</td>\n",
       "      <td>3816078.87</td>\n",
       "    </tr>\n",
       "    <tr>\n",
       "      <th>1</th>\n",
       "      <td>2004</td>\n",
       "      <td>2</td>\n",
       "      <td>February</td>\n",
       "      <td>2857958.67</td>\n",
       "      <td>3835951.84</td>\n",
       "      <td>both</td>\n",
       "      <td>-977993.17</td>\n",
       "    </tr>\n",
       "    <tr>\n",
       "      <th>2</th>\n",
       "      <td>2004</td>\n",
       "      <td>3</td>\n",
       "      <td>March</td>\n",
       "      <td>2915017.80</td>\n",
       "      <td>1871913.27</td>\n",
       "      <td>both</td>\n",
       "      <td>1043104.53</td>\n",
       "    </tr>\n",
       "    <tr>\n",
       "      <th>3</th>\n",
       "      <td>2004</td>\n",
       "      <td>4</td>\n",
       "      <td>April</td>\n",
       "      <td>4119066.86</td>\n",
       "      <td>3489415.34</td>\n",
       "      <td>both</td>\n",
       "      <td>629651.52</td>\n",
       "    </tr>\n",
       "    <tr>\n",
       "      <th>4</th>\n",
       "      <td>2004</td>\n",
       "      <td>5</td>\n",
       "      <td>May</td>\n",
       "      <td>4182803.20</td>\n",
       "      <td>2146577.36</td>\n",
       "      <td>both</td>\n",
       "      <td>2036225.84</td>\n",
       "    </tr>\n",
       "  </tbody>\n",
       "</table>\n",
       "</div>"
      ],
      "text/plain": [
       "   year  Month_no Month_name  Amount_repayment  Amount_spend _merge  \\\n",
       "0  2004         1    January       48095890.83   44279811.96   both   \n",
       "1  2004         2   February        2857958.67    3835951.84   both   \n",
       "2  2004         3      March        2915017.80    1871913.27   both   \n",
       "3  2004         4      April        4119066.86    3489415.34   both   \n",
       "4  2004         5        May        4182803.20    2146577.36   both   \n",
       "\n",
       "       Profit  \n",
       "0  3816078.87  \n",
       "1  -977993.17  \n",
       "2  1043104.53  \n",
       "3   629651.52  \n",
       "4  2036225.84  "
      ]
     },
     "execution_count": 279,
     "metadata": {},
     "output_type": "execute_result"
    }
   ],
   "source": [
    "df_repay_spend.head()"
   ]
  },
  {
   "cell_type": "code",
   "execution_count": 278,
   "id": "9620cd2a",
   "metadata": {},
   "outputs": [],
   "source": [
    "df_repay_spend['Profit']= pd.Series(df_repay_spend['Amount_repayment']-df_repay_spend['Amount_spend'])"
   ]
  },
  {
   "cell_type": "code",
   "execution_count": 283,
   "id": "43803ca1",
   "metadata": {},
   "outputs": [],
   "source": [
    "df_repay_spend['Monthly_interest']= round(pd.Series(np.where(df_repay_spend.Profit>0, (2.9/100)*df_repay_spend.Profit, 0 )),2)"
   ]
  },
  {
   "cell_type": "code",
   "execution_count": 284,
   "id": "63018c43",
   "metadata": {},
   "outputs": [
    {
     "data": {
      "text/html": [
       "<div>\n",
       "<style scoped>\n",
       "    .dataframe tbody tr th:only-of-type {\n",
       "        vertical-align: middle;\n",
       "    }\n",
       "\n",
       "    .dataframe tbody tr th {\n",
       "        vertical-align: top;\n",
       "    }\n",
       "\n",
       "    .dataframe thead th {\n",
       "        text-align: right;\n",
       "    }\n",
       "</style>\n",
       "<table border=\"1\" class=\"dataframe\">\n",
       "  <thead>\n",
       "    <tr style=\"text-align: right;\">\n",
       "      <th></th>\n",
       "      <th>year</th>\n",
       "      <th>Month_no</th>\n",
       "      <th>Month_name</th>\n",
       "      <th>Amount_repayment</th>\n",
       "      <th>Amount_spend</th>\n",
       "      <th>_merge</th>\n",
       "      <th>Profit</th>\n",
       "      <th>Monthly_interest</th>\n",
       "    </tr>\n",
       "  </thead>\n",
       "  <tbody>\n",
       "    <tr>\n",
       "      <th>0</th>\n",
       "      <td>2004</td>\n",
       "      <td>1</td>\n",
       "      <td>January</td>\n",
       "      <td>48095890.83</td>\n",
       "      <td>44279811.96</td>\n",
       "      <td>both</td>\n",
       "      <td>3816078.87</td>\n",
       "      <td>110666.29</td>\n",
       "    </tr>\n",
       "    <tr>\n",
       "      <th>1</th>\n",
       "      <td>2004</td>\n",
       "      <td>2</td>\n",
       "      <td>February</td>\n",
       "      <td>2857958.67</td>\n",
       "      <td>3835951.84</td>\n",
       "      <td>both</td>\n",
       "      <td>-977993.17</td>\n",
       "      <td>0.00</td>\n",
       "    </tr>\n",
       "    <tr>\n",
       "      <th>2</th>\n",
       "      <td>2004</td>\n",
       "      <td>3</td>\n",
       "      <td>March</td>\n",
       "      <td>2915017.80</td>\n",
       "      <td>1871913.27</td>\n",
       "      <td>both</td>\n",
       "      <td>1043104.53</td>\n",
       "      <td>30250.03</td>\n",
       "    </tr>\n",
       "    <tr>\n",
       "      <th>3</th>\n",
       "      <td>2004</td>\n",
       "      <td>4</td>\n",
       "      <td>April</td>\n",
       "      <td>4119066.86</td>\n",
       "      <td>3489415.34</td>\n",
       "      <td>both</td>\n",
       "      <td>629651.52</td>\n",
       "      <td>18259.89</td>\n",
       "    </tr>\n",
       "    <tr>\n",
       "      <th>4</th>\n",
       "      <td>2004</td>\n",
       "      <td>5</td>\n",
       "      <td>May</td>\n",
       "      <td>4182803.20</td>\n",
       "      <td>2146577.36</td>\n",
       "      <td>both</td>\n",
       "      <td>2036225.84</td>\n",
       "      <td>59050.55</td>\n",
       "    </tr>\n",
       "  </tbody>\n",
       "</table>\n",
       "</div>"
      ],
      "text/plain": [
       "   year  Month_no Month_name  Amount_repayment  Amount_spend _merge  \\\n",
       "0  2004         1    January       48095890.83   44279811.96   both   \n",
       "1  2004         2   February        2857958.67    3835951.84   both   \n",
       "2  2004         3      March        2915017.80    1871913.27   both   \n",
       "3  2004         4      April        4119066.86    3489415.34   both   \n",
       "4  2004         5        May        4182803.20    2146577.36   both   \n",
       "\n",
       "       Profit  Monthly_interest  \n",
       "0  3816078.87         110666.29  \n",
       "1  -977993.17              0.00  \n",
       "2  1043104.53          30250.03  \n",
       "3   629651.52          18259.89  \n",
       "4  2036225.84          59050.55  "
      ]
     },
     "execution_count": 284,
     "metadata": {},
     "output_type": "execute_result"
    }
   ],
   "source": [
    "#The column of monthy interest is monthly profit\n",
    "\n",
    "df_repay_spend.head() "
   ]
  },
  {
   "cell_type": "markdown",
   "id": "6be7de20",
   "metadata": {},
   "source": [
    "### f. What are the top 5 product types?"
   ]
  },
  {
   "cell_type": "code",
   "execution_count": 193,
   "id": "d593a102",
   "metadata": {},
   "outputs": [
    {
     "data": {
      "text/plain": [
       "10           PETRO\n",
       "4           CAMERA\n",
       "7             FOOD\n",
       "0       AIR TICKET\n",
       "14    TRAIN TICKET\n",
       "Name: Type, dtype: object"
      ]
     },
     "execution_count": 193,
     "metadata": {},
     "output_type": "execute_result"
    }
   ],
   "source": [
    "#top 5 product types\n",
    "\n",
    "q1_df.groupby('Type').Amount.sum().reset_index().sort_values('Amount', ascending=False).head(5)['Type']"
   ]
  },
  {
   "cell_type": "markdown",
   "id": "92e2bfaf",
   "metadata": {},
   "source": [
    "###  g. Which city is having maximum spend?"
   ]
  },
  {
   "cell_type": "code",
   "execution_count": 194,
   "id": "ee6dffbe",
   "metadata": {},
   "outputs": [],
   "source": [
    "q2_df= q1_df.groupby('City')['Amount'].sum().reset_index()"
   ]
  },
  {
   "cell_type": "code",
   "execution_count": 195,
   "id": "5dc66770",
   "metadata": {},
   "outputs": [
    {
     "data": {
      "text/plain": [
       "'COCHIN'"
      ]
     },
     "execution_count": 195,
     "metadata": {},
     "output_type": "execute_result"
    }
   ],
   "source": [
    "q2_df[q2_df.Amount==q2_df.Amount.max()].City.item()"
   ]
  },
  {
   "cell_type": "code",
   "execution_count": 196,
   "id": "7374d4c7",
   "metadata": {},
   "outputs": [
    {
     "name": "stdout",
     "output_type": "stream",
     "text": [
      "Cochin has the maximum spend.\n"
     ]
    }
   ],
   "source": [
    "print(f'{q2_df[q2_df.Amount==q2_df.Amount.max()].City.item().capitalize()} has the maximum spend.')"
   ]
  },
  {
   "cell_type": "code",
   "execution_count": 286,
   "id": "d0b6802f",
   "metadata": {},
   "outputs": [
    {
     "data": {
      "text/plain": [
       "'COCHIN'"
      ]
     },
     "execution_count": 286,
     "metadata": {},
     "output_type": "execute_result"
    }
   ],
   "source": [
    "#Alternatively\n",
    "\n",
    "(q1_df.groupby('City')['Amount'].sum().reset_index().sort_values('Amount', ascending=False)).head(1)['City'].item()"
   ]
  },
  {
   "cell_type": "markdown",
   "id": "363cfd16",
   "metadata": {},
   "source": [
    "### h. Which age group is spending more money?"
   ]
  },
  {
   "cell_type": "code",
   "execution_count": 198,
   "id": "b151b982",
   "metadata": {},
   "outputs": [
    {
     "data": {
      "text/plain": [
       "79"
      ]
     },
     "execution_count": 198,
     "metadata": {},
     "output_type": "execute_result"
    }
   ],
   "source": [
    "q1_df.Age.max()"
   ]
  },
  {
   "cell_type": "code",
   "execution_count": 199,
   "id": "2654c32e",
   "metadata": {},
   "outputs": [
    {
     "data": {
      "text/html": [
       "<div>\n",
       "<style scoped>\n",
       "    .dataframe tbody tr th:only-of-type {\n",
       "        vertical-align: middle;\n",
       "    }\n",
       "\n",
       "    .dataframe tbody tr th {\n",
       "        vertical-align: top;\n",
       "    }\n",
       "\n",
       "    .dataframe thead th {\n",
       "        text-align: right;\n",
       "    }\n",
       "</style>\n",
       "<table border=\"1\" class=\"dataframe\">\n",
       "  <thead>\n",
       "    <tr style=\"text-align: right;\">\n",
       "      <th></th>\n",
       "      <th>Sl No:</th>\n",
       "      <th>Customer</th>\n",
       "      <th>Month</th>\n",
       "      <th>Type</th>\n",
       "      <th>Amount</th>\n",
       "      <th>No</th>\n",
       "      <th>Age</th>\n",
       "      <th>City</th>\n",
       "      <th>Product</th>\n",
       "      <th>Limit</th>\n",
       "      <th>Company</th>\n",
       "      <th>Segment</th>\n",
       "      <th>_merge</th>\n",
       "      <th>Age group</th>\n",
       "    </tr>\n",
       "  </thead>\n",
       "  <tbody>\n",
       "    <tr>\n",
       "      <th>0</th>\n",
       "      <td>1</td>\n",
       "      <td>A1</td>\n",
       "      <td>2004-01-12</td>\n",
       "      <td>JEWELLERY</td>\n",
       "      <td>485470.80</td>\n",
       "      <td>1</td>\n",
       "      <td>76</td>\n",
       "      <td>BANGALORE</td>\n",
       "      <td>Gold</td>\n",
       "      <td>500000.0</td>\n",
       "      <td>C1</td>\n",
       "      <td>Self Employed</td>\n",
       "      <td>both</td>\n",
       "      <td>Senior Citizen</td>\n",
       "    </tr>\n",
       "    <tr>\n",
       "      <th>1</th>\n",
       "      <td>2</td>\n",
       "      <td>A1</td>\n",
       "      <td>2004-01-03</td>\n",
       "      <td>PETRO</td>\n",
       "      <td>410556.13</td>\n",
       "      <td>1</td>\n",
       "      <td>76</td>\n",
       "      <td>BANGALORE</td>\n",
       "      <td>Gold</td>\n",
       "      <td>500000.0</td>\n",
       "      <td>C1</td>\n",
       "      <td>Self Employed</td>\n",
       "      <td>both</td>\n",
       "      <td>Senior Citizen</td>\n",
       "    </tr>\n",
       "    <tr>\n",
       "      <th>2</th>\n",
       "      <td>3</td>\n",
       "      <td>A1</td>\n",
       "      <td>2004-01-15</td>\n",
       "      <td>CLOTHES</td>\n",
       "      <td>23740.46</td>\n",
       "      <td>1</td>\n",
       "      <td>76</td>\n",
       "      <td>BANGALORE</td>\n",
       "      <td>Gold</td>\n",
       "      <td>500000.0</td>\n",
       "      <td>C1</td>\n",
       "      <td>Self Employed</td>\n",
       "      <td>both</td>\n",
       "      <td>Senior Citizen</td>\n",
       "    </tr>\n",
       "    <tr>\n",
       "      <th>3</th>\n",
       "      <td>4</td>\n",
       "      <td>A1</td>\n",
       "      <td>2004-01-25</td>\n",
       "      <td>FOOD</td>\n",
       "      <td>484342.47</td>\n",
       "      <td>1</td>\n",
       "      <td>76</td>\n",
       "      <td>BANGALORE</td>\n",
       "      <td>Gold</td>\n",
       "      <td>500000.0</td>\n",
       "      <td>C1</td>\n",
       "      <td>Self Employed</td>\n",
       "      <td>both</td>\n",
       "      <td>Senior Citizen</td>\n",
       "    </tr>\n",
       "    <tr>\n",
       "      <th>4</th>\n",
       "      <td>5</td>\n",
       "      <td>A1</td>\n",
       "      <td>2005-01-17</td>\n",
       "      <td>CAMERA</td>\n",
       "      <td>369694.07</td>\n",
       "      <td>1</td>\n",
       "      <td>76</td>\n",
       "      <td>BANGALORE</td>\n",
       "      <td>Gold</td>\n",
       "      <td>500000.0</td>\n",
       "      <td>C1</td>\n",
       "      <td>Self Employed</td>\n",
       "      <td>both</td>\n",
       "      <td>Senior Citizen</td>\n",
       "    </tr>\n",
       "    <tr>\n",
       "      <th>...</th>\n",
       "      <td>...</td>\n",
       "      <td>...</td>\n",
       "      <td>...</td>\n",
       "      <td>...</td>\n",
       "      <td>...</td>\n",
       "      <td>...</td>\n",
       "      <td>...</td>\n",
       "      <td>...</td>\n",
       "      <td>...</td>\n",
       "      <td>...</td>\n",
       "      <td>...</td>\n",
       "      <td>...</td>\n",
       "      <td>...</td>\n",
       "      <td>...</td>\n",
       "    </tr>\n",
       "    <tr>\n",
       "      <th>1495</th>\n",
       "      <td>1496</td>\n",
       "      <td>A67</td>\n",
       "      <td>2006-02-04</td>\n",
       "      <td>BUS TICKET</td>\n",
       "      <td>356872.73</td>\n",
       "      <td>67</td>\n",
       "      <td>54</td>\n",
       "      <td>CHENNAI</td>\n",
       "      <td>Gold</td>\n",
       "      <td>500000.0</td>\n",
       "      <td>C29</td>\n",
       "      <td>Normal Salary</td>\n",
       "      <td>both</td>\n",
       "      <td>Grownup</td>\n",
       "    </tr>\n",
       "    <tr>\n",
       "      <th>1496</th>\n",
       "      <td>1497</td>\n",
       "      <td>A68</td>\n",
       "      <td>2006-03-25</td>\n",
       "      <td>BUS TICKET</td>\n",
       "      <td>50000.00</td>\n",
       "      <td>68</td>\n",
       "      <td>46</td>\n",
       "      <td>TRIVANDRUM</td>\n",
       "      <td>Silver</td>\n",
       "      <td>100000.0</td>\n",
       "      <td>C30</td>\n",
       "      <td>Self Employed</td>\n",
       "      <td>both</td>\n",
       "      <td>Grownup</td>\n",
       "    </tr>\n",
       "    <tr>\n",
       "      <th>1497</th>\n",
       "      <td>1498</td>\n",
       "      <td>A69</td>\n",
       "      <td>2006-03-31</td>\n",
       "      <td>BUS TICKET</td>\n",
       "      <td>5000.00</td>\n",
       "      <td>69</td>\n",
       "      <td>33</td>\n",
       "      <td>CALCUTTA</td>\n",
       "      <td>Platimum</td>\n",
       "      <td>10000.0</td>\n",
       "      <td>C31</td>\n",
       "      <td>Self Employed</td>\n",
       "      <td>both</td>\n",
       "      <td>Grownup</td>\n",
       "    </tr>\n",
       "    <tr>\n",
       "      <th>1498</th>\n",
       "      <td>1499</td>\n",
       "      <td>A70</td>\n",
       "      <td>2006-03-23</td>\n",
       "      <td>BUS TICKET</td>\n",
       "      <td>5000.50</td>\n",
       "      <td>70</td>\n",
       "      <td>46</td>\n",
       "      <td>BOMBAY</td>\n",
       "      <td>Platimum</td>\n",
       "      <td>10001.0</td>\n",
       "      <td>C32</td>\n",
       "      <td>Self Employed</td>\n",
       "      <td>both</td>\n",
       "      <td>Grownup</td>\n",
       "    </tr>\n",
       "    <tr>\n",
       "      <th>1499</th>\n",
       "      <td>1500</td>\n",
       "      <td>A71</td>\n",
       "      <td>2006-03-24</td>\n",
       "      <td>BUS TICKET</td>\n",
       "      <td>5001.00</td>\n",
       "      <td>71</td>\n",
       "      <td>34</td>\n",
       "      <td>BOMBAY</td>\n",
       "      <td>Platimum</td>\n",
       "      <td>10002.0</td>\n",
       "      <td>C33</td>\n",
       "      <td>Self Employed</td>\n",
       "      <td>both</td>\n",
       "      <td>Grownup</td>\n",
       "    </tr>\n",
       "  </tbody>\n",
       "</table>\n",
       "<p>1500 rows × 14 columns</p>\n",
       "</div>"
      ],
      "text/plain": [
       "      Sl No: Customer      Month        Type     Amount  No  Age        City  \\\n",
       "0          1       A1 2004-01-12   JEWELLERY  485470.80   1   76   BANGALORE   \n",
       "1          2       A1 2004-01-03       PETRO  410556.13   1   76   BANGALORE   \n",
       "2          3       A1 2004-01-15     CLOTHES   23740.46   1   76   BANGALORE   \n",
       "3          4       A1 2004-01-25        FOOD  484342.47   1   76   BANGALORE   \n",
       "4          5       A1 2005-01-17      CAMERA  369694.07   1   76   BANGALORE   \n",
       "...      ...      ...        ...         ...        ...  ..  ...         ...   \n",
       "1495    1496      A67 2006-02-04  BUS TICKET  356872.73  67   54     CHENNAI   \n",
       "1496    1497      A68 2006-03-25  BUS TICKET   50000.00  68   46  TRIVANDRUM   \n",
       "1497    1498      A69 2006-03-31  BUS TICKET    5000.00  69   33    CALCUTTA   \n",
       "1498    1499      A70 2006-03-23  BUS TICKET    5000.50  70   46      BOMBAY   \n",
       "1499    1500      A71 2006-03-24  BUS TICKET    5001.00  71   34      BOMBAY   \n",
       "\n",
       "       Product     Limit Company        Segment _merge       Age group  \n",
       "0         Gold  500000.0      C1  Self Employed   both  Senior Citizen  \n",
       "1         Gold  500000.0      C1  Self Employed   both  Senior Citizen  \n",
       "2         Gold  500000.0      C1  Self Employed   both  Senior Citizen  \n",
       "3         Gold  500000.0      C1  Self Employed   both  Senior Citizen  \n",
       "4         Gold  500000.0      C1  Self Employed   both  Senior Citizen  \n",
       "...        ...       ...     ...            ...    ...             ...  \n",
       "1495      Gold  500000.0     C29  Normal Salary   both         Grownup  \n",
       "1496    Silver  100000.0     C30  Self Employed   both         Grownup  \n",
       "1497  Platimum   10000.0     C31  Self Employed   both         Grownup  \n",
       "1498  Platimum   10001.0     C32  Self Employed   both         Grownup  \n",
       "1499  Platimum   10002.0     C33  Self Employed   both         Grownup  \n",
       "\n",
       "[1500 rows x 14 columns]"
      ]
     },
     "execution_count": 199,
     "metadata": {},
     "output_type": "execute_result"
    }
   ],
   "source": [
    "q1_df['Age group']=pd.cut(q1_df.Age,  bins=[0, 1, 12, 19, 60, 100] , labels=['Infant', 'Kid', 'Teenager', 'Grownup', 'Senior Citizen'])\n",
    "q1_df"
   ]
  },
  {
   "cell_type": "code",
   "execution_count": 200,
   "id": "c5eb8f35",
   "metadata": {},
   "outputs": [
    {
     "data": {
      "text/plain": [
       "'Grownup'"
      ]
     },
     "execution_count": 200,
     "metadata": {},
     "output_type": "execute_result"
    }
   ],
   "source": [
    "age_group=round(q1_df.groupby('Age group')['Amount'].sum()).reset_index().sort_values('Amount', ascending=False).head(1)['Age group'].item()\n",
    "age_group"
   ]
  },
  {
   "cell_type": "code",
   "execution_count": 201,
   "id": "851e6d8f",
   "metadata": {},
   "outputs": [
    {
     "name": "stdout",
     "output_type": "stream",
     "text": [
      "Grownups are spending more money.\n"
     ]
    }
   ],
   "source": [
    "print(f'{age_group}s are spending more money.')"
   ]
  },
  {
   "cell_type": "markdown",
   "id": "f71e0f57",
   "metadata": {},
   "source": [
    "### i. Who are the top 10 customers in terms of repayment?"
   ]
  },
  {
   "cell_type": "code",
   "execution_count": 202,
   "id": "7199a254",
   "metadata": {},
   "outputs": [
    {
     "data": {
      "text/plain": [
       "57    A60\n",
       "32    A38\n",
       "35    A40\n",
       "58    A61\n",
       "5     A13\n",
       "4     A12\n",
       "33    A39\n",
       "6     A14\n",
       "37    A42\n",
       "36    A41\n",
       "Name: Customer, dtype: object"
      ]
     },
     "execution_count": 202,
     "metadata": {},
     "output_type": "execute_result"
    }
   ],
   "source": [
    "#Calculated the top 10 customers in trms of repayment by total amount repaid by these customers.\n",
    "\n",
    "q1_df2.groupby('Customer')['Amount'].sum().reset_index().sort_values('Amount', ascending=False).head(10)['Customer']"
   ]
  },
  {
   "cell_type": "markdown",
   "id": "962ce262",
   "metadata": {},
   "source": [
    "### 3. Calculate the city wise spend on each product on yearly basis. Also include a graphical representation for the same."
   ]
  },
  {
   "cell_type": "code",
   "execution_count": 203,
   "id": "ebab44a2",
   "metadata": {},
   "outputs": [
    {
     "data": {
      "text/html": [
       "<div>\n",
       "<style scoped>\n",
       "    .dataframe tbody tr th:only-of-type {\n",
       "        vertical-align: middle;\n",
       "    }\n",
       "\n",
       "    .dataframe tbody tr th {\n",
       "        vertical-align: top;\n",
       "    }\n",
       "\n",
       "    .dataframe thead tr th {\n",
       "        text-align: left;\n",
       "    }\n",
       "\n",
       "    .dataframe thead tr:last-of-type th {\n",
       "        text-align: right;\n",
       "    }\n",
       "</style>\n",
       "<table border=\"1\" class=\"dataframe\">\n",
       "  <thead>\n",
       "    <tr>\n",
       "      <th>Product</th>\n",
       "      <th colspan=\"3\" halign=\"left\">Gold</th>\n",
       "      <th colspan=\"3\" halign=\"left\">Platimum</th>\n",
       "      <th colspan=\"3\" halign=\"left\">Silver</th>\n",
       "    </tr>\n",
       "    <tr>\n",
       "      <th>Month</th>\n",
       "      <th>2004</th>\n",
       "      <th>2005</th>\n",
       "      <th>2006</th>\n",
       "      <th>2004</th>\n",
       "      <th>2005</th>\n",
       "      <th>2006</th>\n",
       "      <th>2004</th>\n",
       "      <th>2005</th>\n",
       "      <th>2006</th>\n",
       "    </tr>\n",
       "    <tr>\n",
       "      <th>City</th>\n",
       "      <th></th>\n",
       "      <th></th>\n",
       "      <th></th>\n",
       "      <th></th>\n",
       "      <th></th>\n",
       "      <th></th>\n",
       "      <th></th>\n",
       "      <th></th>\n",
       "      <th></th>\n",
       "    </tr>\n",
       "  </thead>\n",
       "  <tbody>\n",
       "    <tr>\n",
       "      <th>BANGALORE</th>\n",
       "      <td>9289878.54</td>\n",
       "      <td>12892362.99</td>\n",
       "      <td>12030611.09</td>\n",
       "      <td>1112732.30</td>\n",
       "      <td>912284.97</td>\n",
       "      <td>685831.27</td>\n",
       "      <td>1291852.58</td>\n",
       "      <td>830612.34</td>\n",
       "      <td>1415480.94</td>\n",
       "    </tr>\n",
       "    <tr>\n",
       "      <th>BOMBAY</th>\n",
       "      <td>6987853.53</td>\n",
       "      <td>8983018.28</td>\n",
       "      <td>7917144.31</td>\n",
       "      <td>897264.94</td>\n",
       "      <td>711804.94</td>\n",
       "      <td>972130.01</td>\n",
       "      <td>532089.03</td>\n",
       "      <td>508988.54</td>\n",
       "      <td>1092833.80</td>\n",
       "    </tr>\n",
       "    <tr>\n",
       "      <th>CALCUTTA</th>\n",
       "      <td>7477140.98</td>\n",
       "      <td>10303355.80</td>\n",
       "      <td>11167532.77</td>\n",
       "      <td>2037690.30</td>\n",
       "      <td>4434696.31</td>\n",
       "      <td>3589606.66</td>\n",
       "      <td>500006.00</td>\n",
       "      <td>440147.06</td>\n",
       "      <td>1157956.42</td>\n",
       "    </tr>\n",
       "    <tr>\n",
       "      <th>CHENNAI</th>\n",
       "      <td>1059618.50</td>\n",
       "      <td>3740945.58</td>\n",
       "      <td>2704288.62</td>\n",
       "      <td>3535652.38</td>\n",
       "      <td>5053956.32</td>\n",
       "      <td>5024923.40</td>\n",
       "      <td>282056.86</td>\n",
       "      <td>377184.49</td>\n",
       "      <td>350009.50</td>\n",
       "    </tr>\n",
       "    <tr>\n",
       "      <th>COCHIN</th>\n",
       "      <td>7315850.15</td>\n",
       "      <td>12110613.03</td>\n",
       "      <td>10499142.38</td>\n",
       "      <td>3419904.07</td>\n",
       "      <td>4960921.71</td>\n",
       "      <td>4920592.29</td>\n",
       "      <td>814229.62</td>\n",
       "      <td>652269.38</td>\n",
       "      <td>1269990.87</td>\n",
       "    </tr>\n",
       "    <tr>\n",
       "      <th>DELHI</th>\n",
       "      <td>2806495.00</td>\n",
       "      <td>1964845.27</td>\n",
       "      <td>2957103.32</td>\n",
       "      <td>283512.89</td>\n",
       "      <td>494157.86</td>\n",
       "      <td>176788.72</td>\n",
       "      <td>768172.30</td>\n",
       "      <td>612311.21</td>\n",
       "      <td>854899.97</td>\n",
       "    </tr>\n",
       "    <tr>\n",
       "      <th>PATNA</th>\n",
       "      <td>2072567.90</td>\n",
       "      <td>3252615.77</td>\n",
       "      <td>2276181.69</td>\n",
       "      <td>1113069.60</td>\n",
       "      <td>2883231.07</td>\n",
       "      <td>1256137.65</td>\n",
       "      <td>756684.10</td>\n",
       "      <td>950094.19</td>\n",
       "      <td>700005.00</td>\n",
       "    </tr>\n",
       "    <tr>\n",
       "      <th>TRIVANDRUM</th>\n",
       "      <td>2415102.84</td>\n",
       "      <td>1240375.85</td>\n",
       "      <td>2735710.87</td>\n",
       "      <td>2161676.67</td>\n",
       "      <td>3601443.30</td>\n",
       "      <td>2147403.75</td>\n",
       "      <td>209667.48</td>\n",
       "      <td>269912.99</td>\n",
       "      <td>555862.12</td>\n",
       "    </tr>\n",
       "  </tbody>\n",
       "</table>\n",
       "</div>"
      ],
      "text/plain": [
       "Product           Gold                              Platimum              \\\n",
       "Month             2004         2005         2006        2004        2005   \n",
       "City                                                                       \n",
       "BANGALORE   9289878.54  12892362.99  12030611.09  1112732.30   912284.97   \n",
       "BOMBAY      6987853.53   8983018.28   7917144.31   897264.94   711804.94   \n",
       "CALCUTTA    7477140.98  10303355.80  11167532.77  2037690.30  4434696.31   \n",
       "CHENNAI     1059618.50   3740945.58   2704288.62  3535652.38  5053956.32   \n",
       "COCHIN      7315850.15  12110613.03  10499142.38  3419904.07  4960921.71   \n",
       "DELHI       2806495.00   1964845.27   2957103.32   283512.89   494157.86   \n",
       "PATNA       2072567.90   3252615.77   2276181.69  1113069.60  2883231.07   \n",
       "TRIVANDRUM  2415102.84   1240375.85   2735710.87  2161676.67  3601443.30   \n",
       "\n",
       "Product                     Silver                         \n",
       "Month             2006        2004       2005        2006  \n",
       "City                                                       \n",
       "BANGALORE    685831.27  1291852.58  830612.34  1415480.94  \n",
       "BOMBAY       972130.01   532089.03  508988.54  1092833.80  \n",
       "CALCUTTA    3589606.66   500006.00  440147.06  1157956.42  \n",
       "CHENNAI     5024923.40   282056.86  377184.49   350009.50  \n",
       "COCHIN      4920592.29   814229.62  652269.38  1269990.87  \n",
       "DELHI        176788.72   768172.30  612311.21   854899.97  \n",
       "PATNA       1256137.65   756684.10  950094.19   700005.00  \n",
       "TRIVANDRUM  2147403.75   209667.48  269912.99   555862.12  "
      ]
     },
     "execution_count": 203,
     "metadata": {},
     "output_type": "execute_result"
    }
   ],
   "source": [
    "q3_df1=q1_df.pivot_table(index='City', columns=[ 'Product', q1_df.Month.dt.year], values='Amount', aggfunc='sum')\n",
    "q3_df1"
   ]
  },
  {
   "cell_type": "code",
   "execution_count": 204,
   "id": "97e14f05",
   "metadata": {},
   "outputs": [
    {
     "data": {
      "image/png": "[encoded data removed]",
      "text/plain": [
       "<Figure size 720x504 with 1 Axes>"
      ]
     },
     "metadata": {
      "needs_background": "light"
     },
     "output_type": "display_data"
    }
   ],
   "source": [
    "#plotted a stacked bar graph \n",
    "\n",
    "q3_df1.plot(kind='bar', stacked=True, figsize=(10,7))\n",
    "plt.legend( title='product, year', bbox_to_anchor=(1.04, 1), loc=\"upper left\")\n",
    "plt.show()"
   ]
  },
  {
   "cell_type": "markdown",
   "id": "78d41005",
   "metadata": {},
   "source": [
    "### 4. Create graphs for\n",
    "### a. Monthly comparison of total spends, city wise"
   ]
  },
  {
   "cell_type": "code",
   "execution_count": 205,
   "id": "739c1533",
   "metadata": {},
   "outputs": [
    {
     "data": {
      "text/html": [
       "<div>\n",
       "<style scoped>\n",
       "    .dataframe tbody tr th:only-of-type {\n",
       "        vertical-align: middle;\n",
       "    }\n",
       "\n",
       "    .dataframe tbody tr th {\n",
       "        vertical-align: top;\n",
       "    }\n",
       "\n",
       "    .dataframe thead th {\n",
       "        text-align: right;\n",
       "    }\n",
       "</style>\n",
       "<table border=\"1\" class=\"dataframe\">\n",
       "  <thead>\n",
       "    <tr style=\"text-align: right;\">\n",
       "      <th></th>\n",
       "      <th>City</th>\n",
       "      <th>BANGALORE</th>\n",
       "      <th>BOMBAY</th>\n",
       "      <th>CALCUTTA</th>\n",
       "      <th>CHENNAI</th>\n",
       "      <th>COCHIN</th>\n",
       "      <th>DELHI</th>\n",
       "      <th>PATNA</th>\n",
       "      <th>TRIVANDRUM</th>\n",
       "    </tr>\n",
       "    <tr>\n",
       "      <th>Month</th>\n",
       "      <th>Month</th>\n",
       "      <th></th>\n",
       "      <th></th>\n",
       "      <th></th>\n",
       "      <th></th>\n",
       "      <th></th>\n",
       "      <th></th>\n",
       "      <th></th>\n",
       "      <th></th>\n",
       "    </tr>\n",
       "  </thead>\n",
       "  <tbody>\n",
       "    <tr>\n",
       "      <th>1</th>\n",
       "      <th>January</th>\n",
       "      <td>9041796.84</td>\n",
       "      <td>5948993.33</td>\n",
       "      <td>9064864.90</td>\n",
       "      <td>4466961.36</td>\n",
       "      <td>11714373.54</td>\n",
       "      <td>2714261.45</td>\n",
       "      <td>4916205.55</td>\n",
       "      <td>3704336.99</td>\n",
       "    </tr>\n",
       "    <tr>\n",
       "      <th>2</th>\n",
       "      <th>February</th>\n",
       "      <td>6734494.76</td>\n",
       "      <td>4276988.30</td>\n",
       "      <td>8150545.61</td>\n",
       "      <td>4385815.95</td>\n",
       "      <td>5747886.38</td>\n",
       "      <td>1494064.06</td>\n",
       "      <td>2353333.55</td>\n",
       "      <td>2857123.89</td>\n",
       "    </tr>\n",
       "    <tr>\n",
       "      <th>3</th>\n",
       "      <th>March</th>\n",
       "      <td>5362903.07</td>\n",
       "      <td>5227850.50</td>\n",
       "      <td>4939040.04</td>\n",
       "      <td>3183643.71</td>\n",
       "      <td>5645146.53</td>\n",
       "      <td>2267149.02</td>\n",
       "      <td>1437166.61</td>\n",
       "      <td>2392316.51</td>\n",
       "    </tr>\n",
       "    <tr>\n",
       "      <th>4</th>\n",
       "      <th>April</th>\n",
       "      <td>4207980.48</td>\n",
       "      <td>1873785.01</td>\n",
       "      <td>3457507.95</td>\n",
       "      <td>2518656.99</td>\n",
       "      <td>3882744.94</td>\n",
       "      <td>777240.75</td>\n",
       "      <td>2338179.53</td>\n",
       "      <td>1199293.45</td>\n",
       "    </tr>\n",
       "    <tr>\n",
       "      <th>5</th>\n",
       "      <th>May</th>\n",
       "      <td>6383115.13</td>\n",
       "      <td>3891945.60</td>\n",
       "      <td>5578246.87</td>\n",
       "      <td>2856199.62</td>\n",
       "      <td>6581085.69</td>\n",
       "      <td>1600322.07</td>\n",
       "      <td>2136586.80</td>\n",
       "      <td>2813534.48</td>\n",
       "    </tr>\n",
       "    <tr>\n",
       "      <th>6</th>\n",
       "      <th>June</th>\n",
       "      <td>1330685.90</td>\n",
       "      <td>1172594.97</td>\n",
       "      <td>2293045.81</td>\n",
       "      <td>1244242.16</td>\n",
       "      <td>2495745.07</td>\n",
       "      <td>511276.09</td>\n",
       "      <td>746186.13</td>\n",
       "      <td>400336.83</td>\n",
       "    </tr>\n",
       "    <tr>\n",
       "      <th>7</th>\n",
       "      <th>July</th>\n",
       "      <td>2228217.69</td>\n",
       "      <td>177726.32</td>\n",
       "      <td>2234573.27</td>\n",
       "      <td>693825.77</td>\n",
       "      <td>1290897.30</td>\n",
       "      <td>50001.50</td>\n",
       "      <td>50000.00</td>\n",
       "      <td>260484.50</td>\n",
       "    </tr>\n",
       "    <tr>\n",
       "      <th>8</th>\n",
       "      <th>August</th>\n",
       "      <td>695061.95</td>\n",
       "      <td>1066744.75</td>\n",
       "      <td>1548354.02</td>\n",
       "      <td>305875.97</td>\n",
       "      <td>2317306.61</td>\n",
       "      <td>155402.16</td>\n",
       "      <td>419383.64</td>\n",
       "      <td>453773.94</td>\n",
       "    </tr>\n",
       "    <tr>\n",
       "      <th>9</th>\n",
       "      <th>September</th>\n",
       "      <td>703018.28</td>\n",
       "      <td>1278402.79</td>\n",
       "      <td>1511713.57</td>\n",
       "      <td>745759.40</td>\n",
       "      <td>1382242.90</td>\n",
       "      <td>50001.00</td>\n",
       "      <td>70329.95</td>\n",
       "      <td>186063.70</td>\n",
       "    </tr>\n",
       "    <tr>\n",
       "      <th>10</th>\n",
       "      <th>October</th>\n",
       "      <td>1091602.61</td>\n",
       "      <td>676005.70</td>\n",
       "      <td>196357.83</td>\n",
       "      <td>156247.17</td>\n",
       "      <td>868551.89</td>\n",
       "      <td>64615.46</td>\n",
       "      <td>329537.34</td>\n",
       "      <td>285581.92</td>\n",
       "    </tr>\n",
       "    <tr>\n",
       "      <th>11</th>\n",
       "      <th>November</th>\n",
       "      <td>2260603.07</td>\n",
       "      <td>2872049.40</td>\n",
       "      <td>2078880.93</td>\n",
       "      <td>1347779.28</td>\n",
       "      <td>3127999.60</td>\n",
       "      <td>391610.96</td>\n",
       "      <td>413677.87</td>\n",
       "      <td>143387.40</td>\n",
       "    </tr>\n",
       "    <tr>\n",
       "      <th>12</th>\n",
       "      <th>December</th>\n",
       "      <td>422167.24</td>\n",
       "      <td>140040.71</td>\n",
       "      <td>55001.50</td>\n",
       "      <td>223628.27</td>\n",
       "      <td>909533.05</td>\n",
       "      <td>842342.02</td>\n",
       "      <td>50000.00</td>\n",
       "      <td>640922.26</td>\n",
       "    </tr>\n",
       "  </tbody>\n",
       "</table>\n",
       "</div>"
      ],
      "text/plain": [
       "City              BANGALORE      BOMBAY    CALCUTTA     CHENNAI       COCHIN  \\\n",
       "Month Month                                                                    \n",
       "1     January    9041796.84  5948993.33  9064864.90  4466961.36  11714373.54   \n",
       "2     February   6734494.76  4276988.30  8150545.61  4385815.95   5747886.38   \n",
       "3     March      5362903.07  5227850.50  4939040.04  3183643.71   5645146.53   \n",
       "4     April      4207980.48  1873785.01  3457507.95  2518656.99   3882744.94   \n",
       "5     May        6383115.13  3891945.60  5578246.87  2856199.62   6581085.69   \n",
       "6     June       1330685.90  1172594.97  2293045.81  1244242.16   2495745.07   \n",
       "7     July       2228217.69   177726.32  2234573.27   693825.77   1290897.30   \n",
       "8     August      695061.95  1066744.75  1548354.02   305875.97   2317306.61   \n",
       "9     September   703018.28  1278402.79  1511713.57   745759.40   1382242.90   \n",
       "10    October    1091602.61   676005.70   196357.83   156247.17    868551.89   \n",
       "11    November   2260603.07  2872049.40  2078880.93  1347779.28   3127999.60   \n",
       "12    December    422167.24   140040.71    55001.50   223628.27    909533.05   \n",
       "\n",
       "City                  DELHI       PATNA  TRIVANDRUM  \n",
       "Month Month                                          \n",
       "1     January    2714261.45  4916205.55  3704336.99  \n",
       "2     February   1494064.06  2353333.55  2857123.89  \n",
       "3     March      2267149.02  1437166.61  2392316.51  \n",
       "4     April       777240.75  2338179.53  1199293.45  \n",
       "5     May        1600322.07  2136586.80  2813534.48  \n",
       "6     June        511276.09   746186.13   400336.83  \n",
       "7     July         50001.50    50000.00   260484.50  \n",
       "8     August      155402.16   419383.64   453773.94  \n",
       "9     September    50001.00    70329.95   186063.70  \n",
       "10    October      64615.46   329537.34   285581.92  \n",
       "11    November    391610.96   413677.87   143387.40  \n",
       "12    December    842342.02    50000.00   640922.26  "
      ]
     },
     "execution_count": 205,
     "metadata": {},
     "output_type": "execute_result"
    }
   ],
   "source": [
    "summ = q1_df.pivot_table( index=[q1_df.Month.dt.month,q1_df.Month.dt.month_name()], columns='City', values='Amount', aggfunc='sum')\n",
    "summ"
   ]
  },
  {
   "cell_type": "code",
   "execution_count": 206,
   "id": "60378f26",
   "metadata": {},
   "outputs": [
    {
     "data": {
      "text/plain": [
       "<matplotlib.legend.Legend at 0x246ef3299a0>"
      ]
     },
     "execution_count": 206,
     "metadata": {},
     "output_type": "execute_result"
    },
    {
     "data": {
      "image/png": "[encoded data removed]",
      "text/plain": [
       "<Figure size 1440x720 with 1 Axes>"
      ]
     },
     "metadata": {
      "needs_background": "light"
     },
     "output_type": "display_data"
    }
   ],
   "source": [
    "summ.plot(kind='line', stacked=True, title='Monthly comparison of city wise total spends', figsize=(20,10))\n",
    "plt.legend( title='City', bbox_to_anchor=(1.04, 1), loc=\"upper left\")\n",
    "plt.legend( title='City', bbox_to_anchor=(1.04, 1), loc=\"upper left\")"
   ]
  },
  {
   "cell_type": "code",
   "execution_count": 207,
   "id": "122bf39f",
   "metadata": {},
   "outputs": [
    {
     "data": {
      "text/plain": [
       "<AxesSubplot:xlabel='City,Month,Month'>"
      ]
     },
     "execution_count": 207,
     "metadata": {},
     "output_type": "execute_result"
    },
    {
     "data": {
      "image/png": "[encoded data removed]",
      "text/plain": [
       "<Figure size 1440x720 with 1 Axes>"
      ]
     },
     "metadata": {
      "needs_background": "light"
     },
     "output_type": "display_data"
    }
   ],
   "source": [
    "plt.figure(figsize=(20,10))\n",
    "q1_df.groupby(['City', q1_df.Month.dt.month,q1_df.Month.dt.month_name() ])['Amount'].sum().plot()"
   ]
  },
  {
   "cell_type": "markdown",
   "id": "3db8a27e",
   "metadata": {},
   "source": [
    "###  b. Comparison of yearly spend on air tickets"
   ]
  },
  {
   "cell_type": "code",
   "execution_count": 208,
   "id": "92e4197d",
   "metadata": {},
   "outputs": [
    {
     "data": {
      "text/plain": [
       "<AxesSubplot:xlabel='Month'>"
      ]
     },
     "execution_count": 208,
     "metadata": {},
     "output_type": "execute_result"
    },
    {
     "data": {
      "image/png": "[encoded data removed]",
      "text/plain": [
       "<Figure size 432x288 with 1 Axes>"
      ]
     },
     "metadata": {
      "needs_background": "light"
     },
     "output_type": "display_data"
    }
   ],
   "source": [
    "q4b_df=q1_df.groupby([q1_df.Month.dt.year,'Type'])['Amount'].sum().reset_index()\n",
    "q4b_df[q4b_df.Type=='AIR TICKET'].plot(x='Month', y='Amount', kind='bar')\n"
   ]
  },
  {
   "cell_type": "raw",
   "id": "4205df1c",
   "metadata": {},
   "source": [
    "From the graph it seems that the maximum ammount was spent in the year 2005."
   ]
  },
  {
   "cell_type": "markdown",
   "id": "3dbbe904",
   "metadata": {},
   "source": [
    "### c. Comparison of monthly spend for each product (look for any seasonality that exists in terms of spend)"
   ]
  },
  {
   "cell_type": "code",
   "execution_count": 209,
   "id": "3d372b73",
   "metadata": {},
   "outputs": [
    {
     "data": {
      "text/plain": [
       "Text(0.5, 0, 'Month')"
      ]
     },
     "execution_count": 209,
     "metadata": {},
     "output_type": "execute_result"
    },
    {
     "data": {
      "image/png": "[encoded data removed]",
      "text/plain": [
       "<Figure size 864x432 with 1 Axes>"
      ]
     },
     "metadata": {
      "needs_background": "light"
     },
     "output_type": "display_data"
    }
   ],
   "source": [
    "q4c_df=q1_df.groupby([q1_df.Month.dt.month,q1_df.Month.dt.month_name(),'Product'])['Amount'].sum()\n",
    "q4c_df.index.names=['Month No', 'Month', 'Product']\n",
    "q4c_df=q4c_df.reset_index()\n",
    "q4c_df\n",
    "qc4_pivot=q4c_df.pivot_table(index=['Month No', 'Month'], columns='Product', values='Amount', aggfunc=sum).plot(figsize=(12,6))\n",
    "plt.xlabel('Month')"
   ]
  },
  {
   "cell_type": "raw",
   "id": "81b94561",
   "metadata": {},
   "source": [
    "From the above graph we can interpret that the spend using credit card was high for all three items during May and November. The sales also peaked for silver during March. "
   ]
  },
  {
   "cell_type": "markdown",
   "id": "669b729d",
   "metadata": {},
   "source": [
    "### 5. Write user defined PYTHON function to perform the following analysis:\n",
    "### You need to find top 10 customers for each city in terms of their repayment amount by different products and by different time periods i.e. year or month. The user should be able to specify the product (Gold/Silver/Platinum) and time period (yearly or monthly) and the function should automatically take these inputs while identifying the top 10 customers."
   ]
  },
  {
   "cell_type": "code",
   "execution_count": 295,
   "id": "6c5f86e7",
   "metadata": {},
   "outputs": [
    {
     "data": {
      "text/html": [
       "<div>\n",
       "<style scoped>\n",
       "    .dataframe tbody tr th:only-of-type {\n",
       "        vertical-align: middle;\n",
       "    }\n",
       "\n",
       "    .dataframe tbody tr th {\n",
       "        vertical-align: top;\n",
       "    }\n",
       "\n",
       "    .dataframe thead th {\n",
       "        text-align: right;\n",
       "    }\n",
       "</style>\n",
       "<table border=\"1\" class=\"dataframe\">\n",
       "  <thead>\n",
       "    <tr style=\"text-align: right;\">\n",
       "      <th></th>\n",
       "      <th>SL No:</th>\n",
       "      <th>Customer</th>\n",
       "      <th>Month</th>\n",
       "      <th>Amount</th>\n",
       "      <th>No</th>\n",
       "      <th>Age</th>\n",
       "      <th>City</th>\n",
       "      <th>Product</th>\n",
       "      <th>Limit</th>\n",
       "      <th>Company</th>\n",
       "      <th>Segment</th>\n",
       "      <th>_merge</th>\n",
       "      <th>Month name</th>\n",
       "      <th>Year</th>\n",
       "    </tr>\n",
       "  </thead>\n",
       "  <tbody>\n",
       "    <tr>\n",
       "      <th>0</th>\n",
       "      <td>1</td>\n",
       "      <td>A1</td>\n",
       "      <td>2004-01-12</td>\n",
       "      <td>485470.80</td>\n",
       "      <td>1</td>\n",
       "      <td>76</td>\n",
       "      <td>BANGALORE</td>\n",
       "      <td>Gold</td>\n",
       "      <td>500000.0</td>\n",
       "      <td>C1</td>\n",
       "      <td>Self Employed</td>\n",
       "      <td>both</td>\n",
       "      <td>January</td>\n",
       "      <td>2004</td>\n",
       "    </tr>\n",
       "    <tr>\n",
       "      <th>1</th>\n",
       "      <td>2</td>\n",
       "      <td>A1</td>\n",
       "      <td>2004-01-03</td>\n",
       "      <td>410556.13</td>\n",
       "      <td>1</td>\n",
       "      <td>76</td>\n",
       "      <td>BANGALORE</td>\n",
       "      <td>Gold</td>\n",
       "      <td>500000.0</td>\n",
       "      <td>C1</td>\n",
       "      <td>Self Employed</td>\n",
       "      <td>both</td>\n",
       "      <td>January</td>\n",
       "      <td>2004</td>\n",
       "    </tr>\n",
       "    <tr>\n",
       "      <th>2</th>\n",
       "      <td>3</td>\n",
       "      <td>A1</td>\n",
       "      <td>2004-01-15</td>\n",
       "      <td>23740.46</td>\n",
       "      <td>1</td>\n",
       "      <td>76</td>\n",
       "      <td>BANGALORE</td>\n",
       "      <td>Gold</td>\n",
       "      <td>500000.0</td>\n",
       "      <td>C1</td>\n",
       "      <td>Self Employed</td>\n",
       "      <td>both</td>\n",
       "      <td>January</td>\n",
       "      <td>2004</td>\n",
       "    </tr>\n",
       "    <tr>\n",
       "      <th>3</th>\n",
       "      <td>4</td>\n",
       "      <td>A1</td>\n",
       "      <td>2004-01-25</td>\n",
       "      <td>484342.47</td>\n",
       "      <td>1</td>\n",
       "      <td>76</td>\n",
       "      <td>BANGALORE</td>\n",
       "      <td>Gold</td>\n",
       "      <td>500000.0</td>\n",
       "      <td>C1</td>\n",
       "      <td>Self Employed</td>\n",
       "      <td>both</td>\n",
       "      <td>January</td>\n",
       "      <td>2004</td>\n",
       "    </tr>\n",
       "    <tr>\n",
       "      <th>4</th>\n",
       "      <td>5</td>\n",
       "      <td>A1</td>\n",
       "      <td>2005-01-17</td>\n",
       "      <td>369694.07</td>\n",
       "      <td>1</td>\n",
       "      <td>76</td>\n",
       "      <td>BANGALORE</td>\n",
       "      <td>Gold</td>\n",
       "      <td>500000.0</td>\n",
       "      <td>C1</td>\n",
       "      <td>Self Employed</td>\n",
       "      <td>both</td>\n",
       "      <td>January</td>\n",
       "      <td>2005</td>\n",
       "    </tr>\n",
       "  </tbody>\n",
       "</table>\n",
       "</div>"
      ],
      "text/plain": [
       "   SL No: Customer      Month     Amount  No  Age       City Product  \\\n",
       "0       1       A1 2004-01-12  485470.80   1   76  BANGALORE    Gold   \n",
       "1       2       A1 2004-01-03  410556.13   1   76  BANGALORE    Gold   \n",
       "2       3       A1 2004-01-15   23740.46   1   76  BANGALORE    Gold   \n",
       "3       4       A1 2004-01-25  484342.47   1   76  BANGALORE    Gold   \n",
       "4       5       A1 2005-01-17  369694.07   1   76  BANGALORE    Gold   \n",
       "\n",
       "      Limit Company        Segment _merge Month name  Year  \n",
       "0  500000.0      C1  Self Employed   both    January  2004  \n",
       "1  500000.0      C1  Self Employed   both    January  2004  \n",
       "2  500000.0      C1  Self Employed   both    January  2004  \n",
       "3  500000.0      C1  Self Employed   both    January  2004  \n",
       "4  500000.0      C1  Self Employed   both    January  2005  "
      ]
     },
     "execution_count": 295,
     "metadata": {},
     "output_type": "execute_result"
    }
   ],
   "source": [
    "#step 1= create a df with the product, month and year with repayment as left table\n",
    "\n",
    "q1_df2['Month name']=pd.Series(q1_df2.Month.dt.month_name())\n",
    "q1_df2['Year']=pd.Series(q1_df2.Month.dt.year)\n",
    "q1_df2.head()"
   ]
  },
  {
   "cell_type": "code",
   "execution_count": 311,
   "id": "75c30701",
   "metadata": {},
   "outputs": [],
   "source": [
    "def top10Customers(product_category,time_period):\n",
    "    product_category=product_category.capitalize()\n",
    "    time_period=time_period.capitalize()\n",
    "    if time_period=='Yearly':\n",
    "        time_period='Year'\n",
    "    elif time_period=='Monthly':\n",
    "        time_period='Month name'\n",
    "    return q1_df2[(q1_df2.Product == product_category)].groupby(['Product',time_period,'City','Customer']).Amount.sum().reset_index().sort_values('Amount',ascending=False).head(10)"
   ]
  },
  {
   "cell_type": "code",
   "execution_count": 325,
   "id": "6bcc18de",
   "metadata": {},
   "outputs": [
    {
     "name": "stdout",
     "output_type": "stream",
     "text": [
      "Enter Product Category and product category should be in Gold/Silver/Platinum:  silver\n",
      "Enter Time Period and time period should be in yearly/monthly: yearly\n"
     ]
    }
   ],
   "source": [
    "product_category=str(input(\"Enter Product Category and product category should be in Gold/Silver/Platinum:  \"))\n",
    "time_period=str(input(\"Enter Time Period and time period should be in yearly/monthly: \"))"
   ]
  },
  {
   "cell_type": "code",
   "execution_count": 326,
   "id": "5dec40b3",
   "metadata": {},
   "outputs": [
    {
     "data": {
      "text/html": [
       "<div>\n",
       "<style scoped>\n",
       "    .dataframe tbody tr th:only-of-type {\n",
       "        vertical-align: middle;\n",
       "    }\n",
       "\n",
       "    .dataframe tbody tr th {\n",
       "        vertical-align: top;\n",
       "    }\n",
       "\n",
       "    .dataframe thead th {\n",
       "        text-align: right;\n",
       "    }\n",
       "</style>\n",
       "<table border=\"1\" class=\"dataframe\">\n",
       "  <thead>\n",
       "    <tr style=\"text-align: right;\">\n",
       "      <th></th>\n",
       "      <th>Product</th>\n",
       "      <th>Year</th>\n",
       "      <th>City</th>\n",
       "      <th>Customer</th>\n",
       "      <th>Amount</th>\n",
       "    </tr>\n",
       "  </thead>\n",
       "  <tbody>\n",
       "    <tr>\n",
       "      <th>22</th>\n",
       "      <td>Silver</td>\n",
       "      <td>2005</td>\n",
       "      <td>BOMBAY</td>\n",
       "      <td>A22</td>\n",
       "      <td>1150000.00</td>\n",
       "    </tr>\n",
       "    <tr>\n",
       "      <th>33</th>\n",
       "      <td>Silver</td>\n",
       "      <td>2005</td>\n",
       "      <td>PATNA</td>\n",
       "      <td>A46</td>\n",
       "      <td>1119186.72</td>\n",
       "    </tr>\n",
       "    <tr>\n",
       "      <th>31</th>\n",
       "      <td>Silver</td>\n",
       "      <td>2005</td>\n",
       "      <td>DELHI</td>\n",
       "      <td>A24</td>\n",
       "      <td>1100022.00</td>\n",
       "    </tr>\n",
       "    <tr>\n",
       "      <th>48</th>\n",
       "      <td>Silver</td>\n",
       "      <td>2006</td>\n",
       "      <td>COCHIN</td>\n",
       "      <td>A25</td>\n",
       "      <td>1000030.00</td>\n",
       "    </tr>\n",
       "    <tr>\n",
       "      <th>19</th>\n",
       "      <td>Silver</td>\n",
       "      <td>2005</td>\n",
       "      <td>BANGALORE</td>\n",
       "      <td>A23</td>\n",
       "      <td>1000010.00</td>\n",
       "    </tr>\n",
       "    <tr>\n",
       "      <th>16</th>\n",
       "      <td>Silver</td>\n",
       "      <td>2004</td>\n",
       "      <td>TRIVANDRUM</td>\n",
       "      <td>A57</td>\n",
       "      <td>1000010.00</td>\n",
       "    </tr>\n",
       "    <tr>\n",
       "      <th>4</th>\n",
       "      <td>Silver</td>\n",
       "      <td>2004</td>\n",
       "      <td>BOMBAY</td>\n",
       "      <td>A22</td>\n",
       "      <td>1000000.00</td>\n",
       "    </tr>\n",
       "    <tr>\n",
       "      <th>40</th>\n",
       "      <td>Silver</td>\n",
       "      <td>2006</td>\n",
       "      <td>BOMBAY</td>\n",
       "      <td>A22</td>\n",
       "      <td>900000.00</td>\n",
       "    </tr>\n",
       "    <tr>\n",
       "      <th>53</th>\n",
       "      <td>Silver</td>\n",
       "      <td>2006</td>\n",
       "      <td>PATNA</td>\n",
       "      <td>A46</td>\n",
       "      <td>853907.13</td>\n",
       "    </tr>\n",
       "    <tr>\n",
       "      <th>37</th>\n",
       "      <td>Silver</td>\n",
       "      <td>2006</td>\n",
       "      <td>BANGALORE</td>\n",
       "      <td>A23</td>\n",
       "      <td>852473.01</td>\n",
       "    </tr>\n",
       "  </tbody>\n",
       "</table>\n",
       "</div>"
      ],
      "text/plain": [
       "   Product  Year        City Customer      Amount\n",
       "22  Silver  2005      BOMBAY      A22  1150000.00\n",
       "33  Silver  2005       PATNA      A46  1119186.72\n",
       "31  Silver  2005       DELHI      A24  1100022.00\n",
       "48  Silver  2006      COCHIN      A25  1000030.00\n",
       "19  Silver  2005   BANGALORE      A23  1000010.00\n",
       "16  Silver  2004  TRIVANDRUM      A57  1000010.00\n",
       "4   Silver  2004      BOMBAY      A22  1000000.00\n",
       "40  Silver  2006      BOMBAY      A22   900000.00\n",
       "53  Silver  2006       PATNA      A46   853907.13\n",
       "37  Silver  2006   BANGALORE      A23   852473.01"
      ]
     },
     "execution_count": 326,
     "metadata": {},
     "output_type": "execute_result"
    }
   ],
   "source": [
    "top10Customers(product_category,time_period)"
   ]
  }
 ],
 "metadata": {
  "kernelspec": {
   "display_name": "Python 3 (ipykernel)",
   "language": "python",
   "name": "python3"
  },
  "language_info": {
   "codemirror_mode": {
    "name": "ipython",
    "version": 3
   },
   "file_extension": ".py",
   "mimetype": "text/x-python",
   "name": "python",
   "nbconvert_exporter": "python",
   "pygments_lexer": "ipython3",
   "version": "3.9.7"
  }
 },
 "nbformat": 4,
 "nbformat_minor": 5
}
